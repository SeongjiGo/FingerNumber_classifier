{
  "nbformat": 4,
  "nbformat_minor": 0,
  "metadata": {
    "colab": {
      "name": "FingerNumber_classifier.ipynb",
      "provenance": [],
      "collapsed_sections": [],
      "mount_file_id": "1CiGp008K7eMHjk3Q-LtShkxNTxxbKZoX",
      "authorship_tag": "ABX9TyMuqkYNKEIGwP4it7Er+AkJ",
      "include_colab_link": true
    },
    "kernelspec": {
      "name": "python3",
      "display_name": "Python 3"
    },
    "language_info": {
      "name": "python"
    },
    "accelerator": "GPU"
  },
  "cells": [
    {
      "cell_type": "markdown",
      "metadata": {
        "id": "view-in-github",
        "colab_type": "text"
      },
      "source": [
        "<a href=\"https://colab.research.google.com/github/SeongjiGo/FingerNumber_classifier/blob/master/FingerNumber_classifier.ipynb\" target=\"_parent\"><img src=\"https://colab.research.google.com/assets/colab-badge.svg\" alt=\"Open In Colab\"/></a>"
      ]
    },
    {
      "cell_type": "code",
      "metadata": {
        "colab": {
          "base_uri": "https://localhost:8080/"
        },
        "id": "q8xXWfV86dgA",
        "outputId": "8175459c-85a0-4db5-987e-cdaeb84be44c"
      },
      "source": [
        "print(\"FingerNumber_Classifier\")\n",
        "print(\"[0] 모델 새로 학습하기\")\n",
        "print(\"[1] 학습된 모델로 새로운 사진 분류해보기\")\n",
        "print(\"[any] 종료\")\n",
        "\n",
        "menu = input(\"숫자를 입력해주세요: \")\n",
        "\n",
        "if menu == '0':\n",
        "    print(\"모델을 새로 학습합니다.\")\n",
        "    print(\"15 에포크 기준 정확도는 약 79%입니다.\")\n",
        "    epochNum = int(input(\"원하는 에포크 수를 입력해주세요: \"))\n",
        "    print(f\"{epochNum}으로 에포크를 설정하였습니다.\")\n",
        "    print(\"모델 학습을 시작합니다.\")\n",
        "\n",
        "elif menu == '1':\n",
        "    print(\"분류를 진행합니다.\")\n",
        "    file_path = input(\"파일의 [절대경로]를 입력해주세요: \")\n",
        "\n",
        "else:\n",
        "    print('프로그램을 종료합니다.')\n",
        "\n",
        "if menu == '0':\n",
        "    # 데이터 셋 구성하기, 경로를 파악한 후\n",
        "    # 클래스 이름(name), 클래스(class), 그리고 학습을 위한 클래스를 숫자로 나타낸 타겟(target)을 csv파일에 저장\n",
        "    import os\n",
        "    from glob import glob # 인자로 받은 패턴과 이름이 일치하는 모든 파일과 디렉터리의 리스트 반환\n",
        "    import pandas as pd\n",
        "\n",
        "    file_path = './drive/MyDrive/FingerNumber_classifier_project/dataSet/*/*.png' # 데이터의 경로 저장\n",
        "    file_list = glob(file_path)\n",
        "\n",
        "    data_dict = {'image_name':[], 'class':[], 'target':[], 'file_path':[]}\n",
        "    # 학습에 사용하기 위한 넘버링(?)\n",
        "    target_dict = {'yi_1': 0, 'er_2': 1, 'san_3': 2, 'si_4':3, 'wu_5':4, 'liu_6':5, 'qi_7':6, 'ba_8':7, 'jiu_9':8, 'shi_10': 9}\n",
        "\n",
        "    for path in file_list:\n",
        "        data_dict['file_path'].append(path) # file_path 항목에 파일 경로 저장\n",
        "\n",
        "        path_list = path.split(os.path.sep) # os별 파일 경로 구분 문자로 split\n",
        "\n",
        "        data_dict['image_name'].append(path_list[-1]) # 이미지 이름 저장\n",
        "        data_dict['class'].append(path_list[-2]) # 어떤 클래스인지 저장\n",
        "        data_dict['target'].append(target_dict[path_list[-2]]) # 그 클래스의 번호 저장\n",
        "\n",
        "    train_df = pd.DataFrame(data_dict) # 데이터 프레임 화\n",
        "    train_df.to_csv(\"./drive/MyDrive/FingerNumber_classifier_project/train.csv\", mode='w') # csv파일로 생성\n",
        "    print('csv파일 생성 완료!')\n",
        "\n",
        "    from sklearn.model_selection import train_test_split # 스플릿 모듈\n",
        "    def get_df():\n",
        "        # csv 파일 읽어서 DataFrame으로 저장\n",
        "        df = pd.read_csv(\"./drive/MyDrive/FingerNumber_classifier_project/train.csv\") # csv로 불러와서 데이터 저장\n",
        "        print('csv 파일 DataFrame으로 저장 완료!')\n",
        "\n",
        "        # 데이터셋을 train, val, test로 나누기\n",
        "        df_train, df_test = train_test_split(df, test_size=0.2, random_state=2359)\n",
        "        df_train, df_val = train_test_split(df_train, test_size=0.2, random_state=2359)\n",
        "        print('훈련셋, 검증셋, 테스트셋 분할 완료!')\n",
        "        return df_train, df_val, df_test\n",
        "\n",
        "    # 데이터셋 읽어오기\n",
        "    df_train, df_val, df_test = get_df()\n",
        "    print(f'훈련셋 개수:{len(df_train)}, 검증셋 개수:{len(df_val)}, 테스트셋 개수: {len(df_test)}') # 192, 48, 60\n",
        "\n",
        "    import torch\n",
        "    from torch.utils.data import Dataset\n",
        "    from PIL import Image\n",
        "\n",
        "    # 학습시, 데이터셋을 사용할 수 있도록 만들기\n",
        "    class Classification_Dataset(Dataset):\n",
        "        def __init__(self, csv, mode, transform=None):\n",
        "            self.csv = csv.reset_index(drop=True) # random으로 섞인 데이터의 인덱스를 reset 시켜서 다시 부여한다.\n",
        "            self.transform = transform\n",
        "\n",
        "        def __len__(self):\n",
        "            return self.csv.shape[0] # csv 파일의 행 개수 == 데이터 개수\n",
        "\n",
        "        def __getitem__(self, index):\n",
        "            row = self.csv.iloc[index] # 주어진 index에 대한 데이터 뽑아오기\n",
        "            image = Image.open(row.file_path).convert('RGB') # 파일 경로로 부터 이미지를 읽고 rgb로 변환하기\n",
        "            target = torch.tensor(self.csv.iloc[index].target).long()\n",
        "\n",
        "            if self.transform:\n",
        "                image = self.transform(image) # 이미지에 transform 적용하기\n",
        "\n",
        "            return image, target # 이미지와 target return하기기\n",
        "\n",
        "\n",
        "    # normalize를 위해 rgb 채널의 mean, std 값 구하기\n",
        "\n",
        "    import numpy as np\n",
        "    from torchvision import transforms\n",
        "    dataset_train = Classification_Dataset(df_train, 'train', transform=transforms.ToTensor())\n",
        "\n",
        "    # 데이터(shape:torch.Size([3, 381, 343])) rgb에 대한 mean, std 구하기\n",
        "    rgb_mean = [np.mean(x.numpy(), axis=(1, 2)) for x, _ in dataset_train]\n",
        "    rgb_std = [np.std(x.numpy(), axis=(1, 2)) for x, _ in dataset_train]\n",
        "\n",
        "    # 각 데이터 채널별로 mean, std 나타내기\n",
        "    c_mean = []\n",
        "    c_std = []\n",
        "    for i in range(3):\n",
        "        c_mean.append(np.mean([m[i] for m in rgb_mean]))\n",
        "        c_std.append(np.std([s[i] for s in rgb_std]))\n",
        "\n",
        "    print('rgb의 mean, std값 계산 완료!')\n",
        "    # 사용자 모델 트랜스폼\n",
        "    def get_transforms(image_size):\n",
        "        transforms_train = transforms.Compose([\n",
        "            transforms.RandomRotation(30), # 이미지의 다양화를 위해 랜덤으로 +- 30도 가량 회전\n",
        "            transforms.RandomResizedCrop(image_size), # 이미지 사이즈 축소\n",
        "            transforms.RandomHorizontalFlip(), # 이미지를 랜덤으로 수평하게 뒤집음.\n",
        "            transforms.ToTensor(), # 데이터 타입을 텐서로 변경\n",
        "            transforms.Normalize(c_mean, c_std) ]) # 정규화\n",
        "\n",
        "        transforms_val = transforms.Compose([transforms.Resize(image_size + 30), # 이미지 사이즈 축소\n",
        "                                             transforms.CenterCrop(image_size), # 이미지의 가운데 부분을 인자값으로 자름\n",
        "                                             transforms.ToTensor(),\n",
        "                                             transforms.Normalize(c_mean, c_std)])\n",
        "        \n",
        "        transforms_test = transforms.Compose([transforms.Resize(image_size),\n",
        "                                             transforms.ToTensor(),\n",
        "                                             transforms.Normalize(c_mean, c_std)]) # 정규화\n",
        "\n",
        "        return transforms_train, transforms_val, transforms_test\n",
        "\n",
        "    # 모델 트랜스폼 가져오기\n",
        "    transforms_train, transforms_val, transforms_test = get_transforms(224)\n",
        "    print(\"모델 트랜스폼 불러오기 완료!\")\n",
        "\n",
        "    # dataset class 객체 만들기\n",
        "    dataset_train = Classification_Dataset(df_train, 'train', transform=transforms_train)\n",
        "    dataset_val = Classification_Dataset(df_val, 'valid', transform=transforms_val)\n",
        "    dataset_test = Classification_Dataset(df_test, 'test', transform=transforms_test) # 트랜스폼 적용할 필요 없음\n",
        "    print('dataset class 객체 생성 완료!')\n",
        "\n",
        "    # DataLoader는 Classification_Dataset으로 받아온 데이터(이미지, target)를 batch로 묶어 return합니다.\n",
        "    from torch.utils.data.sampler import RandomSampler\n",
        "    from torch.utils.data import DataLoader\n",
        "\n",
        "    train_loader = torch.utils.data.DataLoader(dataset_train, batch_size=1, sampler=RandomSampler(dataset_train), num_workers=0)\n",
        "    valid_loader = torch.utils.data.DataLoader(dataset_val, batch_size=1, num_workers=0)\n",
        "    test_loader = torch.utils.data.DataLoader(dataset_test, batch_size=1, num_workers=0)\n",
        "    print('데이터 로더 완료!')\n",
        "    #### 데이터 준비 파트는 마무리가 되었습니다. 큰 틀을 살펴보면서 정리해보도록 하겠습니다.\n",
        "    # 0. 데이터셋 다운받기`: 여러분이 수집한 데이터의 클래스별로 폴더를 구성하여 데이터셋을 준비합니다.\n",
        "    # 1. 데이터셋 구성하기`: 저장한 데이터의 정보를 csv 파일로 만듭니다.\n",
        "    # 2. 데이터셋 불러오기`: csv 파일을 통해 데이터를 불러와서 train, validation, test로 나눠줍니다.\n",
        "    # 3. 학습 시, 데이터셋을 사용할 수 있도록 만들기\n",
        "    #     3-1. Dataset Class`: pytorch가 dataset을 어떻게 읽을지 알려주는 클래스를 만듭니다. (데이터셋 크기와 지정한 인덱스별로 데이터를 리턴해주는 len, getitem 함수가 포함되어 있습니다.)\n",
        "    #     3-2. Transforms & Augmentation`: 학습을 위해 데이터를 가공합니다.\n",
        "    #     3-3. Data Loaders`: 배치별로 데이터를 묶어줍니다. Training시, 배치단위별로 데이터가 호출됩니다.\n",
        "\n",
        "    # Model 설정\n",
        "    from torchvision import models\n",
        "    from collections import OrderedDict\n",
        "    import torch.nn as nn\n",
        "\n",
        "    model = models.vgg19(pretrained=True)\n",
        "    # # Backprop을 수행하지 않도록 parameter들을 동결시키기\n",
        "    # # 재학습을 위해, 모든 parameters의 gradient를 꺼놓기\n",
        "    for param in model.parameters():\n",
        "        param.requires_grad = False\n",
        "\n",
        "    # 마지막 layer를 과제에 맞게 수정하기\n",
        "    classifier = nn.Sequential(OrderedDict([\n",
        "        ('fc1', nn.Linear(25088, 500)),\n",
        "        ('relu', nn.ReLU()),\n",
        "        ('fc2', nn.Linear(500, 10))\n",
        "    ]))\n",
        "\n",
        "    model.classifier = classifier\n",
        "    print('VGG19 모델 셋팅 완료')\n",
        "\n",
        "    # Training\n",
        "    import numpy as np\n",
        "    import cv2\n",
        "    import random\n",
        "    import time\n",
        "    import torch.optim as optim\n",
        "\n",
        "    from tqdm import tqdm # tqdm은 작업의 진행률을 시각적으로 표시해준다.\n",
        "\n",
        "    # train\n",
        "    def train_epoch(model, loader, device, criterion, optimizer):\n",
        "        model.train() # 모델 train 모드로 바꾸기\n",
        "        train_loss = []\n",
        "        bar = tqdm(loader)\n",
        "\n",
        "        for i, (data, target) in enumerate(bar):\n",
        "            optimizer.zero_grad() # 최적화된 모든 변수 초기화\n",
        "\n",
        "            data, target = data.to(device), target.to(device) # 지정한 device로 데이터 옮기기\n",
        "            logits = model(data) # 1. forward pass\n",
        "\n",
        "            loss = criterion(logits, target) # 2. loss계산\n",
        "            loss.backward() # 3. backward pass\n",
        "            optimizer.step() # 4. gradient descent(파라미터 업데이트)\n",
        "\n",
        "            loss_np = loss.detach().cpu().numpy() # loss값 가져오기 위해 gpu에 있던 데이터 모두 cpu로 옮기기\n",
        "            train_loss.append(loss_np)\n",
        "            bar.set_description('loss: %.5f' % (loss_np))\n",
        "\n",
        "        train_loss = np.mean(train_loss) # 한 epoch당 train loss의 평균 구하기\n",
        "        return train_loss\n",
        "\n",
        "    # Validation\n",
        "    def val_epoch(model, loader, device, criterion):\n",
        "        model.eval() # 모델 evaluate 모드로 바꾸기\n",
        "        val_loss = []\n",
        "        LOGITS = []\n",
        "        PROBS = []\n",
        "        TARGETS = []\n",
        "\n",
        "        with torch.no_grad():\n",
        "            for (data, target) in tqdm(loader):\n",
        "\n",
        "                data, target = data.to(device), target.to(device)\n",
        "                logits = model(data)    # 1. forward pass\n",
        "                probs = logits.softmax(1)\n",
        "\n",
        "                LOGITS.append(logits.detach().cpu())\n",
        "                PROBS.append(probs.detach().cpu())\n",
        "                TARGETS.append(target.detach().cpu())\n",
        "\n",
        "                loss = criterion(logits, target)    # 2. loss 계산\n",
        "                val_loss.append(loss.detach().cpu().numpy())\n",
        "\n",
        "        val_loss = np.mean(val_loss)\n",
        "        LOGITS = torch.cat(LOGITS).numpy()\n",
        "        PROBS = torch.cat(PROBS).numpy()\n",
        "        TARGETS = torch.cat(TARGETS).numpy()\n",
        "\n",
        "        # accuracy: 정확도\n",
        "        acc = (PROBS.argmax(1) == TARGETS).mean() * 100.\n",
        "\n",
        "        return val_loss, acc\n",
        "    \n",
        "    # 학습시키기\n",
        "    def run(model = model, init_lr = 4e-6, n_epochs = 15):\n",
        "        # gpu 사용\n",
        "        device = torch.device('cuda' if torch.cuda.is_available() else 'cpu')\n",
        "        print(f\"현재 장치: {device}\")\n",
        "        # model을 지정한 장치로 옮기기\n",
        "        model = model.to(device)\n",
        "\n",
        "        # loss function 지정\n",
        "        criterion = nn.CrossEntropyLoss()\n",
        "\n",
        "        # optimizer로 adam 사용\n",
        "        optimizer = optim.Adam(model.parameters(), lr = init_lr)\n",
        "\n",
        "        for epoch in range(1, n_epochs + 1):\n",
        "            print(time.ctime(), f'Epoch {epoch}')\n",
        "\n",
        "            train_loss = train_epoch(model, train_loader, device, criterion, optimizer) # train\n",
        "            val_loss, acc = val_epoch(model, valid_loader, device, criterion) # validation\n",
        "\n",
        "            content = time.ctime() + ' ' + f'Epoch {epoch}, lr: {optimizer.param_groups[0][\"lr\"]:.7f}, train loss: {train_loss:.5f}, valid loss: {(val_loss):.5f}, Acc: {(acc):.4f}.'\n",
        "            print(content)\n",
        "\n",
        "        torch.save(model.state_dict(), 'best_model.pth')\n",
        "\n",
        "    run(model, init_lr=4e-6, n_epochs=epochNum)\n",
        "    print(\"가장 좋은 성능의 모델 저장 완료!\")\n",
        "    print(\"학습 종료\");\n",
        "\n",
        "    print(\"\\n테스트셋으로 최종 정확도를 계산합니다.\")\n",
        "\n",
        "    def test_epoch(model, loader, device, criterion):\n",
        "        model.eval() # 모델 evaluate 모드로 바꾸기\n",
        "        val_loss = []\n",
        "        LOGITS = []\n",
        "        PROBS = []\n",
        "        TARGETS = []\n",
        "\n",
        "        with torch.no_grad():\n",
        "            for (data, target) in tqdm(loader):\n",
        "\n",
        "                data, target = data.to(device), target.to(device)\n",
        "                logits = model(data)    # 1. forward pass\n",
        "                probs = logits.softmax(1)\n",
        "\n",
        "                LOGITS.append(logits.detach().cpu())\n",
        "                PROBS.append(probs.detach().cpu())\n",
        "                TARGETS.append(target.detach().cpu())\n",
        "\n",
        "                loss = criterion(logits, target)    # 2. loss 계산\n",
        "                val_loss.append(loss.detach().cpu().numpy())\n",
        "\n",
        "        val_loss = np.mean(val_loss)\n",
        "        LOGITS = torch.cat(LOGITS).numpy()\n",
        "        PROBS = torch.cat(PROBS).numpy()\n",
        "        TARGETS = torch.cat(TARGETS).numpy()\n",
        "\n",
        "        # accuracy: 정확도\n",
        "        acc = (PROBS.argmax(1) == TARGETS).mean() * 100.\n",
        "\n",
        "        return val_loss, acc\n",
        "    \n",
        "    def run_test(model = model, init_lr = 4e-6, n_epochs = 1):\n",
        "        device = torch.device('cuda' if torch.cuda.is_available() else 'cpu')\n",
        "        # loss function 지정\n",
        "        criterion = nn.CrossEntropyLoss()\n",
        "\n",
        "        # optimizer로 adam 사용\n",
        "        optimizer = optim.Adam(model.parameters(), lr = init_lr)\n",
        "\n",
        "        for epoch in range(1, n_epochs + 1):\n",
        "            test_loss, acc = test_epoch(model, test_loader, device, criterion) # test\n",
        "            print(1f'\\t새로운 이미지에 대한 정확도: {acc}.')\n",
        "\n",
        "    run_test(model)\n",
        "elif menu == '1':\n",
        "    pass\n"
      ],
      "execution_count": 5,
      "outputs": [
        {
          "output_type": "stream",
          "name": "stdout",
          "text": [
            "FingerNumber_Classifier\n",
            "[0] 모델 새로 학습하기\n",
            "[1] 학습된 모델로 새로운 사진 분류해보기\n",
            "[any] 종료\n",
            "숫자를 입력해주세요: 0\n",
            "모델을 새로 학습합니다.\n",
            "15 에포크 기준 정확도는 약 79%입니다.\n",
            "원하는 에포크 수를 입력해주세요: 100\n",
            "100으로 에포크를 설정하였습니다.\n",
            "모델 학습을 시작합니다.\n",
            "csv파일 생성 완료!\n",
            "csv 파일 DataFrame으로 저장 완료!\n",
            "훈련셋, 검증셋, 테스트셋 분할 완료!\n",
            "훈련셋 개수:192, 검증셋 개수:48, 테스트셋 개수: 60\n",
            "rgb의 mean, std값 계산 완료!\n",
            "모델 트랜스폼 불러오기 완료!\n",
            "dataset class 객체 생성 완료!\n",
            "데이터 로더 완료!\n",
            "VGG19 모델 셋팅 완료\n",
            "현재 장치: cuda\n",
            "Tue Nov 23 04:37:31 2021 Epoch 1\n"
          ]
        },
        {
          "output_type": "stream",
          "name": "stderr",
          "text": [
            "loss: 1.85709: 100%|██████████| 192/192 [00:10<00:00, 17.46it/s]\n",
            "100%|██████████| 48/48 [00:02<00:00, 22.29it/s]\n"
          ]
        },
        {
          "output_type": "stream",
          "name": "stdout",
          "text": [
            "Tue Nov 23 04:37:44 2021 Epoch 1, lr: 0.0000040, train loss: 2.36063, valid loss: 2.18666, Acc: 29.1667.\n",
            "Tue Nov 23 04:37:44 2021 Epoch 2\n"
          ]
        },
        {
          "output_type": "stream",
          "name": "stderr",
          "text": [
            "loss: 0.71233: 100%|██████████| 192/192 [00:10<00:00, 17.71it/s]\n",
            "100%|██████████| 48/48 [00:02<00:00, 22.24it/s]\n"
          ]
        },
        {
          "output_type": "stream",
          "name": "stdout",
          "text": [
            "Tue Nov 23 04:37:57 2021 Epoch 2, lr: 0.0000040, train loss: 2.07782, valid loss: 1.89831, Acc: 41.6667.\n",
            "Tue Nov 23 04:37:57 2021 Epoch 3\n"
          ]
        },
        {
          "output_type": "stream",
          "name": "stderr",
          "text": [
            "loss: 1.04304: 100%|██████████| 192/192 [00:10<00:00, 17.63it/s]\n",
            "100%|██████████| 48/48 [00:02<00:00, 22.35it/s]\n"
          ]
        },
        {
          "output_type": "stream",
          "name": "stdout",
          "text": [
            "Tue Nov 23 04:38:10 2021 Epoch 3, lr: 0.0000040, train loss: 1.83135, valid loss: 1.72863, Acc: 50.0000.\n",
            "Tue Nov 23 04:38:10 2021 Epoch 4\n"
          ]
        },
        {
          "output_type": "stream",
          "name": "stderr",
          "text": [
            "loss: 1.20529: 100%|██████████| 192/192 [00:10<00:00, 17.56it/s]\n",
            "100%|██████████| 48/48 [00:02<00:00, 22.02it/s]\n"
          ]
        },
        {
          "output_type": "stream",
          "name": "stdout",
          "text": [
            "Tue Nov 23 04:38:24 2021 Epoch 4, lr: 0.0000040, train loss: 1.66123, valid loss: 1.53287, Acc: 50.0000.\n",
            "Tue Nov 23 04:38:24 2021 Epoch 5\n"
          ]
        },
        {
          "output_type": "stream",
          "name": "stderr",
          "text": [
            "loss: 2.19565: 100%|██████████| 192/192 [00:10<00:00, 17.67it/s]\n",
            "100%|██████████| 48/48 [00:02<00:00, 22.25it/s]\n"
          ]
        },
        {
          "output_type": "stream",
          "name": "stdout",
          "text": [
            "Tue Nov 23 04:38:37 2021 Epoch 5, lr: 0.0000040, train loss: 1.47267, valid loss: 1.36586, Acc: 60.4167.\n",
            "Tue Nov 23 04:38:37 2021 Epoch 6\n"
          ]
        },
        {
          "output_type": "stream",
          "name": "stderr",
          "text": [
            "loss: 0.04663: 100%|██████████| 192/192 [00:10<00:00, 17.68it/s]\n",
            "100%|██████████| 48/48 [00:02<00:00, 22.48it/s]\n"
          ]
        },
        {
          "output_type": "stream",
          "name": "stdout",
          "text": [
            "Tue Nov 23 04:38:50 2021 Epoch 6, lr: 0.0000040, train loss: 1.39830, valid loss: 1.26402, Acc: 58.3333.\n",
            "Tue Nov 23 04:38:50 2021 Epoch 7\n"
          ]
        },
        {
          "output_type": "stream",
          "name": "stderr",
          "text": [
            "loss: 1.38861: 100%|██████████| 192/192 [00:10<00:00, 17.75it/s]\n",
            "100%|██████████| 48/48 [00:02<00:00, 22.49it/s]\n"
          ]
        },
        {
          "output_type": "stream",
          "name": "stdout",
          "text": [
            "Tue Nov 23 04:39:03 2021 Epoch 7, lr: 0.0000040, train loss: 1.27928, valid loss: 1.21435, Acc: 58.3333.\n",
            "Tue Nov 23 04:39:03 2021 Epoch 8\n"
          ]
        },
        {
          "output_type": "stream",
          "name": "stderr",
          "text": [
            "loss: 2.03131: 100%|██████████| 192/192 [00:10<00:00, 17.71it/s]\n",
            "100%|██████████| 48/48 [00:02<00:00, 22.59it/s]\n"
          ]
        },
        {
          "output_type": "stream",
          "name": "stdout",
          "text": [
            "Tue Nov 23 04:39:16 2021 Epoch 8, lr: 0.0000040, train loss: 1.25443, valid loss: 1.09556, Acc: 66.6667.\n",
            "Tue Nov 23 04:39:16 2021 Epoch 9\n"
          ]
        },
        {
          "output_type": "stream",
          "name": "stderr",
          "text": [
            "loss: 0.00151: 100%|██████████| 192/192 [00:10<00:00, 17.80it/s]\n",
            "100%|██████████| 48/48 [00:02<00:00, 22.43it/s]\n"
          ]
        },
        {
          "output_type": "stream",
          "name": "stdout",
          "text": [
            "Tue Nov 23 04:39:28 2021 Epoch 9, lr: 0.0000040, train loss: 1.10526, valid loss: 1.08627, Acc: 68.7500.\n",
            "Tue Nov 23 04:39:28 2021 Epoch 10\n"
          ]
        },
        {
          "output_type": "stream",
          "name": "stderr",
          "text": [
            "loss: 0.41913: 100%|██████████| 192/192 [00:10<00:00, 17.70it/s]\n",
            "100%|██████████| 48/48 [00:02<00:00, 22.27it/s]\n"
          ]
        },
        {
          "output_type": "stream",
          "name": "stdout",
          "text": [
            "Tue Nov 23 04:39:42 2021 Epoch 10, lr: 0.0000040, train loss: 1.03712, valid loss: 0.97441, Acc: 75.0000.\n",
            "Tue Nov 23 04:39:42 2021 Epoch 11\n"
          ]
        },
        {
          "output_type": "stream",
          "name": "stderr",
          "text": [
            "loss: 0.32005: 100%|██████████| 192/192 [00:10<00:00, 17.67it/s]\n",
            "100%|██████████| 48/48 [00:02<00:00, 22.37it/s]\n"
          ]
        },
        {
          "output_type": "stream",
          "name": "stdout",
          "text": [
            "Tue Nov 23 04:39:55 2021 Epoch 11, lr: 0.0000040, train loss: 1.06467, valid loss: 0.89400, Acc: 77.0833.\n",
            "Tue Nov 23 04:39:55 2021 Epoch 12\n"
          ]
        },
        {
          "output_type": "stream",
          "name": "stderr",
          "text": [
            "loss: 1.86750: 100%|██████████| 192/192 [00:10<00:00, 17.73it/s]\n",
            "100%|██████████| 48/48 [00:02<00:00, 22.40it/s]\n"
          ]
        },
        {
          "output_type": "stream",
          "name": "stdout",
          "text": [
            "Tue Nov 23 04:40:08 2021 Epoch 12, lr: 0.0000040, train loss: 0.82769, valid loss: 0.82250, Acc: 83.3333.\n",
            "Tue Nov 23 04:40:08 2021 Epoch 13\n"
          ]
        },
        {
          "output_type": "stream",
          "name": "stderr",
          "text": [
            "loss: 0.62829: 100%|██████████| 192/192 [00:10<00:00, 17.65it/s]\n",
            "100%|██████████| 48/48 [00:02<00:00, 22.26it/s]\n"
          ]
        },
        {
          "output_type": "stream",
          "name": "stdout",
          "text": [
            "Tue Nov 23 04:40:21 2021 Epoch 13, lr: 0.0000040, train loss: 0.83312, valid loss: 0.82032, Acc: 81.2500.\n",
            "Tue Nov 23 04:40:21 2021 Epoch 14\n"
          ]
        },
        {
          "output_type": "stream",
          "name": "stderr",
          "text": [
            "loss: 0.21160: 100%|██████████| 192/192 [00:10<00:00, 17.77it/s]\n",
            "100%|██████████| 48/48 [00:02<00:00, 22.43it/s]\n"
          ]
        },
        {
          "output_type": "stream",
          "name": "stdout",
          "text": [
            "Tue Nov 23 04:40:34 2021 Epoch 14, lr: 0.0000040, train loss: 0.80219, valid loss: 0.78762, Acc: 83.3333.\n",
            "Tue Nov 23 04:40:34 2021 Epoch 15\n"
          ]
        },
        {
          "output_type": "stream",
          "name": "stderr",
          "text": [
            "loss: 2.10403: 100%|██████████| 192/192 [00:10<00:00, 17.74it/s]\n",
            "100%|██████████| 48/48 [00:02<00:00, 22.28it/s]\n"
          ]
        },
        {
          "output_type": "stream",
          "name": "stdout",
          "text": [
            "Tue Nov 23 04:40:47 2021 Epoch 15, lr: 0.0000040, train loss: 0.86133, valid loss: 0.76480, Acc: 81.2500.\n",
            "Tue Nov 23 04:40:47 2021 Epoch 16\n"
          ]
        },
        {
          "output_type": "stream",
          "name": "stderr",
          "text": [
            "loss: 1.55920: 100%|██████████| 192/192 [00:10<00:00, 17.74it/s]\n",
            "100%|██████████| 48/48 [00:02<00:00, 22.46it/s]\n"
          ]
        },
        {
          "output_type": "stream",
          "name": "stdout",
          "text": [
            "Tue Nov 23 04:41:00 2021 Epoch 16, lr: 0.0000040, train loss: 0.78659, valid loss: 0.74354, Acc: 81.2500.\n",
            "Tue Nov 23 04:41:00 2021 Epoch 17\n"
          ]
        },
        {
          "output_type": "stream",
          "name": "stderr",
          "text": [
            "loss: 1.71505: 100%|██████████| 192/192 [00:10<00:00, 17.74it/s]\n",
            "100%|██████████| 48/48 [00:02<00:00, 22.47it/s]\n"
          ]
        },
        {
          "output_type": "stream",
          "name": "stdout",
          "text": [
            "Tue Nov 23 04:41:13 2021 Epoch 17, lr: 0.0000040, train loss: 0.69775, valid loss: 0.74270, Acc: 83.3333.\n",
            "Tue Nov 23 04:41:13 2021 Epoch 18\n"
          ]
        },
        {
          "output_type": "stream",
          "name": "stderr",
          "text": [
            "loss: 1.30225: 100%|██████████| 192/192 [00:10<00:00, 17.66it/s]\n",
            "100%|██████████| 48/48 [00:02<00:00, 22.40it/s]\n"
          ]
        },
        {
          "output_type": "stream",
          "name": "stdout",
          "text": [
            "Tue Nov 23 04:41:26 2021 Epoch 18, lr: 0.0000040, train loss: 0.70897, valid loss: 0.69386, Acc: 81.2500.\n",
            "Tue Nov 23 04:41:26 2021 Epoch 19\n"
          ]
        },
        {
          "output_type": "stream",
          "name": "stderr",
          "text": [
            "loss: 0.03457: 100%|██████████| 192/192 [00:10<00:00, 17.69it/s]\n",
            "100%|██████████| 48/48 [00:02<00:00, 22.53it/s]\n"
          ]
        },
        {
          "output_type": "stream",
          "name": "stdout",
          "text": [
            "Tue Nov 23 04:41:39 2021 Epoch 19, lr: 0.0000040, train loss: 0.74551, valid loss: 0.73789, Acc: 81.2500.\n",
            "Tue Nov 23 04:41:39 2021 Epoch 20\n"
          ]
        },
        {
          "output_type": "stream",
          "name": "stderr",
          "text": [
            "loss: 0.70706: 100%|██████████| 192/192 [00:10<00:00, 17.66it/s]\n",
            "100%|██████████| 48/48 [00:02<00:00, 22.64it/s]\n"
          ]
        },
        {
          "output_type": "stream",
          "name": "stdout",
          "text": [
            "Tue Nov 23 04:41:52 2021 Epoch 20, lr: 0.0000040, train loss: 0.58683, valid loss: 0.67256, Acc: 81.2500.\n",
            "Tue Nov 23 04:41:52 2021 Epoch 21\n"
          ]
        },
        {
          "output_type": "stream",
          "name": "stderr",
          "text": [
            "loss: 1.03626: 100%|██████████| 192/192 [00:10<00:00, 17.74it/s]\n",
            "100%|██████████| 48/48 [00:02<00:00, 22.41it/s]\n"
          ]
        },
        {
          "output_type": "stream",
          "name": "stdout",
          "text": [
            "Tue Nov 23 04:42:05 2021 Epoch 21, lr: 0.0000040, train loss: 0.69017, valid loss: 0.73247, Acc: 81.2500.\n",
            "Tue Nov 23 04:42:05 2021 Epoch 22\n"
          ]
        },
        {
          "output_type": "stream",
          "name": "stderr",
          "text": [
            "loss: 0.18880: 100%|██████████| 192/192 [00:10<00:00, 17.69it/s]\n",
            "100%|██████████| 48/48 [00:02<00:00, 22.34it/s]\n"
          ]
        },
        {
          "output_type": "stream",
          "name": "stdout",
          "text": [
            "Tue Nov 23 04:42:18 2021 Epoch 22, lr: 0.0000040, train loss: 0.58075, valid loss: 0.70891, Acc: 79.1667.\n",
            "Tue Nov 23 04:42:18 2021 Epoch 23\n"
          ]
        },
        {
          "output_type": "stream",
          "name": "stderr",
          "text": [
            "loss: 0.01001: 100%|██████████| 192/192 [00:10<00:00, 17.80it/s]\n",
            "100%|██████████| 48/48 [00:02<00:00, 22.20it/s]\n"
          ]
        },
        {
          "output_type": "stream",
          "name": "stdout",
          "text": [
            "Tue Nov 23 04:42:31 2021 Epoch 23, lr: 0.0000040, train loss: 0.63180, valid loss: 0.71666, Acc: 85.4167.\n",
            "Tue Nov 23 04:42:31 2021 Epoch 24\n"
          ]
        },
        {
          "output_type": "stream",
          "name": "stderr",
          "text": [
            "loss: 0.11381: 100%|██████████| 192/192 [00:10<00:00, 17.69it/s]\n",
            "100%|██████████| 48/48 [00:02<00:00, 22.42it/s]\n"
          ]
        },
        {
          "output_type": "stream",
          "name": "stdout",
          "text": [
            "Tue Nov 23 04:42:44 2021 Epoch 24, lr: 0.0000040, train loss: 0.66447, valid loss: 0.65679, Acc: 85.4167.\n",
            "Tue Nov 23 04:42:44 2021 Epoch 25\n"
          ]
        },
        {
          "output_type": "stream",
          "name": "stderr",
          "text": [
            "loss: 0.86007: 100%|██████████| 192/192 [00:10<00:00, 17.70it/s]\n",
            "100%|██████████| 48/48 [00:02<00:00, 22.51it/s]\n"
          ]
        },
        {
          "output_type": "stream",
          "name": "stdout",
          "text": [
            "Tue Nov 23 04:42:57 2021 Epoch 25, lr: 0.0000040, train loss: 0.62662, valid loss: 0.64052, Acc: 87.5000.\n",
            "Tue Nov 23 04:42:57 2021 Epoch 26\n"
          ]
        },
        {
          "output_type": "stream",
          "name": "stderr",
          "text": [
            "loss: 2.59307: 100%|██████████| 192/192 [00:10<00:00, 17.63it/s]\n",
            "100%|██████████| 48/48 [00:02<00:00, 22.22it/s]\n"
          ]
        },
        {
          "output_type": "stream",
          "name": "stdout",
          "text": [
            "Tue Nov 23 04:43:10 2021 Epoch 26, lr: 0.0000040, train loss: 0.69431, valid loss: 0.67982, Acc: 85.4167.\n",
            "Tue Nov 23 04:43:10 2021 Epoch 27\n"
          ]
        },
        {
          "output_type": "stream",
          "name": "stderr",
          "text": [
            "loss: 0.51095: 100%|██████████| 192/192 [00:10<00:00, 17.66it/s]\n",
            "100%|██████████| 48/48 [00:02<00:00, 22.52it/s]\n"
          ]
        },
        {
          "output_type": "stream",
          "name": "stdout",
          "text": [
            "Tue Nov 23 04:43:23 2021 Epoch 27, lr: 0.0000040, train loss: 0.63547, valid loss: 0.68135, Acc: 81.2500.\n",
            "Tue Nov 23 04:43:23 2021 Epoch 28\n"
          ]
        },
        {
          "output_type": "stream",
          "name": "stderr",
          "text": [
            "loss: 0.99167: 100%|██████████| 192/192 [00:10<00:00, 17.71it/s]\n",
            "100%|██████████| 48/48 [00:02<00:00, 22.38it/s]\n"
          ]
        },
        {
          "output_type": "stream",
          "name": "stdout",
          "text": [
            "Tue Nov 23 04:43:36 2021 Epoch 28, lr: 0.0000040, train loss: 0.57748, valid loss: 0.62467, Acc: 83.3333.\n",
            "Tue Nov 23 04:43:36 2021 Epoch 29\n"
          ]
        },
        {
          "output_type": "stream",
          "name": "stderr",
          "text": [
            "loss: 0.00113: 100%|██████████| 192/192 [00:10<00:00, 17.71it/s]\n",
            "100%|██████████| 48/48 [00:02<00:00, 22.48it/s]\n"
          ]
        },
        {
          "output_type": "stream",
          "name": "stdout",
          "text": [
            "Tue Nov 23 04:43:49 2021 Epoch 29, lr: 0.0000040, train loss: 0.51449, valid loss: 0.59085, Acc: 83.3333.\n",
            "Tue Nov 23 04:43:49 2021 Epoch 30\n"
          ]
        },
        {
          "output_type": "stream",
          "name": "stderr",
          "text": [
            "loss: 0.11718: 100%|██████████| 192/192 [00:10<00:00, 17.65it/s]\n",
            "100%|██████████| 48/48 [00:02<00:00, 22.61it/s]\n"
          ]
        },
        {
          "output_type": "stream",
          "name": "stdout",
          "text": [
            "Tue Nov 23 04:44:02 2021 Epoch 30, lr: 0.0000040, train loss: 0.49436, valid loss: 0.58660, Acc: 81.2500.\n",
            "Tue Nov 23 04:44:02 2021 Epoch 31\n"
          ]
        },
        {
          "output_type": "stream",
          "name": "stderr",
          "text": [
            "loss: 0.66007: 100%|██████████| 192/192 [00:10<00:00, 17.79it/s]\n",
            "100%|██████████| 48/48 [00:02<00:00, 22.64it/s]\n"
          ]
        },
        {
          "output_type": "stream",
          "name": "stdout",
          "text": [
            "Tue Nov 23 04:44:15 2021 Epoch 31, lr: 0.0000040, train loss: 0.49355, valid loss: 0.60877, Acc: 83.3333.\n",
            "Tue Nov 23 04:44:15 2021 Epoch 32\n"
          ]
        },
        {
          "output_type": "stream",
          "name": "stderr",
          "text": [
            "loss: 0.43756: 100%|██████████| 192/192 [00:10<00:00, 17.81it/s]\n",
            "100%|██████████| 48/48 [00:02<00:00, 22.40it/s]\n"
          ]
        },
        {
          "output_type": "stream",
          "name": "stdout",
          "text": [
            "Tue Nov 23 04:44:28 2021 Epoch 32, lr: 0.0000040, train loss: 0.47535, valid loss: 0.63171, Acc: 81.2500.\n",
            "Tue Nov 23 04:44:28 2021 Epoch 33\n"
          ]
        },
        {
          "output_type": "stream",
          "name": "stderr",
          "text": [
            "loss: 1.10450: 100%|██████████| 192/192 [00:10<00:00, 17.73it/s]\n",
            "100%|██████████| 48/48 [00:02<00:00, 22.36it/s]\n"
          ]
        },
        {
          "output_type": "stream",
          "name": "stdout",
          "text": [
            "Tue Nov 23 04:44:41 2021 Epoch 33, lr: 0.0000040, train loss: 0.46581, valid loss: 0.69651, Acc: 81.2500.\n",
            "Tue Nov 23 04:44:41 2021 Epoch 34\n"
          ]
        },
        {
          "output_type": "stream",
          "name": "stderr",
          "text": [
            "loss: 0.00966: 100%|██████████| 192/192 [00:10<00:00, 17.71it/s]\n",
            "100%|██████████| 48/48 [00:02<00:00, 22.24it/s]\n"
          ]
        },
        {
          "output_type": "stream",
          "name": "stdout",
          "text": [
            "Tue Nov 23 04:44:54 2021 Epoch 34, lr: 0.0000040, train loss: 0.56355, valid loss: 0.66216, Acc: 79.1667.\n",
            "Tue Nov 23 04:44:54 2021 Epoch 35\n"
          ]
        },
        {
          "output_type": "stream",
          "name": "stderr",
          "text": [
            "loss: 0.00706: 100%|██████████| 192/192 [00:10<00:00, 17.74it/s]\n",
            "100%|██████████| 48/48 [00:02<00:00, 22.36it/s]\n"
          ]
        },
        {
          "output_type": "stream",
          "name": "stdout",
          "text": [
            "Tue Nov 23 04:45:07 2021 Epoch 35, lr: 0.0000040, train loss: 0.46848, valid loss: 0.64925, Acc: 83.3333.\n",
            "Tue Nov 23 04:45:07 2021 Epoch 36\n"
          ]
        },
        {
          "output_type": "stream",
          "name": "stderr",
          "text": [
            "loss: 0.02777: 100%|██████████| 192/192 [00:10<00:00, 17.62it/s]\n",
            "100%|██████████| 48/48 [00:02<00:00, 22.53it/s]\n"
          ]
        },
        {
          "output_type": "stream",
          "name": "stdout",
          "text": [
            "Tue Nov 23 04:45:20 2021 Epoch 36, lr: 0.0000040, train loss: 0.52016, valid loss: 0.57414, Acc: 83.3333.\n",
            "Tue Nov 23 04:45:20 2021 Epoch 37\n"
          ]
        },
        {
          "output_type": "stream",
          "name": "stderr",
          "text": [
            "loss: 0.00358: 100%|██████████| 192/192 [00:10<00:00, 17.65it/s]\n",
            "100%|██████████| 48/48 [00:02<00:00, 22.35it/s]\n"
          ]
        },
        {
          "output_type": "stream",
          "name": "stdout",
          "text": [
            "Tue Nov 23 04:45:33 2021 Epoch 37, lr: 0.0000040, train loss: 0.51937, valid loss: 0.58262, Acc: 81.2500.\n",
            "Tue Nov 23 04:45:33 2021 Epoch 38\n"
          ]
        },
        {
          "output_type": "stream",
          "name": "stderr",
          "text": [
            "loss: 2.71216: 100%|██████████| 192/192 [00:10<00:00, 17.67it/s]\n",
            "100%|██████████| 48/48 [00:02<00:00, 22.44it/s]\n"
          ]
        },
        {
          "output_type": "stream",
          "name": "stdout",
          "text": [
            "Tue Nov 23 04:45:46 2021 Epoch 38, lr: 0.0000040, train loss: 0.54982, valid loss: 0.57443, Acc: 83.3333.\n",
            "Tue Nov 23 04:45:46 2021 Epoch 39\n"
          ]
        },
        {
          "output_type": "stream",
          "name": "stderr",
          "text": [
            "loss: 0.01360: 100%|██████████| 192/192 [00:10<00:00, 17.76it/s]\n",
            "100%|██████████| 48/48 [00:02<00:00, 22.44it/s]\n"
          ]
        },
        {
          "output_type": "stream",
          "name": "stdout",
          "text": [
            "Tue Nov 23 04:45:59 2021 Epoch 39, lr: 0.0000040, train loss: 0.53529, valid loss: 0.61282, Acc: 83.3333.\n",
            "Tue Nov 23 04:45:59 2021 Epoch 40\n"
          ]
        },
        {
          "output_type": "stream",
          "name": "stderr",
          "text": [
            "loss: 0.09058: 100%|██████████| 192/192 [00:10<00:00, 17.74it/s]\n",
            "100%|██████████| 48/48 [00:02<00:00, 22.39it/s]\n"
          ]
        },
        {
          "output_type": "stream",
          "name": "stdout",
          "text": [
            "Tue Nov 23 04:46:12 2021 Epoch 40, lr: 0.0000040, train loss: 0.42537, valid loss: 0.69351, Acc: 81.2500.\n",
            "Tue Nov 23 04:46:12 2021 Epoch 41\n"
          ]
        },
        {
          "output_type": "stream",
          "name": "stderr",
          "text": [
            "loss: 1.00109: 100%|██████████| 192/192 [00:10<00:00, 17.73it/s]\n",
            "100%|██████████| 48/48 [00:02<00:00, 22.31it/s]\n"
          ]
        },
        {
          "output_type": "stream",
          "name": "stdout",
          "text": [
            "Tue Nov 23 04:46:25 2021 Epoch 41, lr: 0.0000040, train loss: 0.50116, valid loss: 0.69504, Acc: 83.3333.\n",
            "Tue Nov 23 04:46:25 2021 Epoch 42\n"
          ]
        },
        {
          "output_type": "stream",
          "name": "stderr",
          "text": [
            "loss: 0.21298: 100%|██████████| 192/192 [00:10<00:00, 17.88it/s]\n",
            "100%|██████████| 48/48 [00:02<00:00, 22.75it/s]\n"
          ]
        },
        {
          "output_type": "stream",
          "name": "stdout",
          "text": [
            "Tue Nov 23 04:46:38 2021 Epoch 42, lr: 0.0000040, train loss: 0.49240, valid loss: 0.69500, Acc: 81.2500.\n",
            "Tue Nov 23 04:46:38 2021 Epoch 43\n"
          ]
        },
        {
          "output_type": "stream",
          "name": "stderr",
          "text": [
            "loss: 0.15534: 100%|██████████| 192/192 [00:10<00:00, 17.89it/s]\n",
            "100%|██████████| 48/48 [00:02<00:00, 22.66it/s]\n"
          ]
        },
        {
          "output_type": "stream",
          "name": "stdout",
          "text": [
            "Tue Nov 23 04:46:51 2021 Epoch 43, lr: 0.0000040, train loss: 0.31328, valid loss: 0.65949, Acc: 81.2500.\n",
            "Tue Nov 23 04:46:51 2021 Epoch 44\n"
          ]
        },
        {
          "output_type": "stream",
          "name": "stderr",
          "text": [
            "loss: 0.59170: 100%|██████████| 192/192 [00:10<00:00, 17.89it/s]\n",
            "100%|██████████| 48/48 [00:02<00:00, 22.58it/s]\n"
          ]
        },
        {
          "output_type": "stream",
          "name": "stdout",
          "text": [
            "Tue Nov 23 04:47:03 2021 Epoch 44, lr: 0.0000040, train loss: 0.47859, valid loss: 0.70075, Acc: 81.2500.\n",
            "Tue Nov 23 04:47:03 2021 Epoch 45\n"
          ]
        },
        {
          "output_type": "stream",
          "name": "stderr",
          "text": [
            "loss: 0.05362: 100%|██████████| 192/192 [00:10<00:00, 17.86it/s]\n",
            "100%|██████████| 48/48 [00:02<00:00, 22.66it/s]\n"
          ]
        },
        {
          "output_type": "stream",
          "name": "stdout",
          "text": [
            "Tue Nov 23 04:47:16 2021 Epoch 45, lr: 0.0000040, train loss: 0.44148, valid loss: 0.72870, Acc: 81.2500.\n",
            "Tue Nov 23 04:47:16 2021 Epoch 46\n"
          ]
        },
        {
          "output_type": "stream",
          "name": "stderr",
          "text": [
            "loss: 0.07096: 100%|██████████| 192/192 [00:10<00:00, 17.89it/s]\n",
            "100%|██████████| 48/48 [00:02<00:00, 22.71it/s]\n"
          ]
        },
        {
          "output_type": "stream",
          "name": "stdout",
          "text": [
            "Tue Nov 23 04:47:29 2021 Epoch 46, lr: 0.0000040, train loss: 0.36869, valid loss: 0.71021, Acc: 81.2500.\n",
            "Tue Nov 23 04:47:29 2021 Epoch 47\n"
          ]
        },
        {
          "output_type": "stream",
          "name": "stderr",
          "text": [
            "loss: 0.00943: 100%|██████████| 192/192 [00:10<00:00, 17.88it/s]\n",
            "100%|██████████| 48/48 [00:02<00:00, 22.77it/s]\n"
          ]
        },
        {
          "output_type": "stream",
          "name": "stdout",
          "text": [
            "Tue Nov 23 04:47:42 2021 Epoch 47, lr: 0.0000040, train loss: 0.52330, valid loss: 0.73202, Acc: 77.0833.\n",
            "Tue Nov 23 04:47:42 2021 Epoch 48\n"
          ]
        },
        {
          "output_type": "stream",
          "name": "stderr",
          "text": [
            "loss: 0.01757: 100%|██████████| 192/192 [00:10<00:00, 17.85it/s]\n",
            "100%|██████████| 48/48 [00:02<00:00, 22.50it/s]\n"
          ]
        },
        {
          "output_type": "stream",
          "name": "stdout",
          "text": [
            "Tue Nov 23 04:47:55 2021 Epoch 48, lr: 0.0000040, train loss: 0.40806, valid loss: 0.76008, Acc: 77.0833.\n",
            "Tue Nov 23 04:47:55 2021 Epoch 49\n"
          ]
        },
        {
          "output_type": "stream",
          "name": "stderr",
          "text": [
            "loss: 0.50706: 100%|██████████| 192/192 [00:10<00:00, 17.96it/s]\n",
            "100%|██████████| 48/48 [00:02<00:00, 22.54it/s]\n"
          ]
        },
        {
          "output_type": "stream",
          "name": "stdout",
          "text": [
            "Tue Nov 23 04:48:08 2021 Epoch 49, lr: 0.0000040, train loss: 0.43716, valid loss: 0.78173, Acc: 77.0833.\n",
            "Tue Nov 23 04:48:08 2021 Epoch 50\n"
          ]
        },
        {
          "output_type": "stream",
          "name": "stderr",
          "text": [
            "loss: 0.00649: 100%|██████████| 192/192 [00:10<00:00, 17.94it/s]\n",
            "100%|██████████| 48/48 [00:02<00:00, 22.58it/s]\n"
          ]
        },
        {
          "output_type": "stream",
          "name": "stdout",
          "text": [
            "Tue Nov 23 04:48:21 2021 Epoch 50, lr: 0.0000040, train loss: 0.34109, valid loss: 0.69647, Acc: 81.2500.\n",
            "Tue Nov 23 04:48:21 2021 Epoch 51\n"
          ]
        },
        {
          "output_type": "stream",
          "name": "stderr",
          "text": [
            "loss: 0.00010: 100%|██████████| 192/192 [00:10<00:00, 17.92it/s]\n",
            "100%|██████████| 48/48 [00:02<00:00, 22.64it/s]\n"
          ]
        },
        {
          "output_type": "stream",
          "name": "stdout",
          "text": [
            "Tue Nov 23 04:48:34 2021 Epoch 51, lr: 0.0000040, train loss: 0.38701, valid loss: 0.75949, Acc: 79.1667.\n",
            "Tue Nov 23 04:48:34 2021 Epoch 52\n"
          ]
        },
        {
          "output_type": "stream",
          "name": "stderr",
          "text": [
            "loss: 0.00258: 100%|██████████| 192/192 [00:10<00:00, 17.69it/s]\n",
            "100%|██████████| 48/48 [00:02<00:00, 22.64it/s]\n"
          ]
        },
        {
          "output_type": "stream",
          "name": "stdout",
          "text": [
            "Tue Nov 23 04:48:47 2021 Epoch 52, lr: 0.0000040, train loss: 0.46935, valid loss: 0.74011, Acc: 81.2500.\n",
            "Tue Nov 23 04:48:47 2021 Epoch 53\n"
          ]
        },
        {
          "output_type": "stream",
          "name": "stderr",
          "text": [
            "loss: 0.02254: 100%|██████████| 192/192 [00:10<00:00, 17.90it/s]\n",
            "100%|██████████| 48/48 [00:02<00:00, 22.39it/s]\n"
          ]
        },
        {
          "output_type": "stream",
          "name": "stdout",
          "text": [
            "Tue Nov 23 04:48:59 2021 Epoch 53, lr: 0.0000040, train loss: 0.41038, valid loss: 0.75418, Acc: 79.1667.\n",
            "Tue Nov 23 04:48:59 2021 Epoch 54\n"
          ]
        },
        {
          "output_type": "stream",
          "name": "stderr",
          "text": [
            "loss: 0.64743: 100%|██████████| 192/192 [00:10<00:00, 17.95it/s]\n",
            "100%|██████████| 48/48 [00:02<00:00, 22.71it/s]\n"
          ]
        },
        {
          "output_type": "stream",
          "name": "stdout",
          "text": [
            "Tue Nov 23 04:49:12 2021 Epoch 54, lr: 0.0000040, train loss: 0.51034, valid loss: 0.83208, Acc: 81.2500.\n",
            "Tue Nov 23 04:49:12 2021 Epoch 55\n"
          ]
        },
        {
          "output_type": "stream",
          "name": "stderr",
          "text": [
            "loss: 0.01150: 100%|██████████| 192/192 [00:10<00:00, 17.77it/s]\n",
            "100%|██████████| 48/48 [00:02<00:00, 22.58it/s]\n"
          ]
        },
        {
          "output_type": "stream",
          "name": "stdout",
          "text": [
            "Tue Nov 23 04:49:25 2021 Epoch 55, lr: 0.0000040, train loss: 0.46262, valid loss: 0.81377, Acc: 79.1667.\n",
            "Tue Nov 23 04:49:25 2021 Epoch 56\n"
          ]
        },
        {
          "output_type": "stream",
          "name": "stderr",
          "text": [
            "loss: 0.02594: 100%|██████████| 192/192 [00:10<00:00, 17.78it/s]\n",
            "100%|██████████| 48/48 [00:02<00:00, 22.44it/s]\n"
          ]
        },
        {
          "output_type": "stream",
          "name": "stdout",
          "text": [
            "Tue Nov 23 04:49:38 2021 Epoch 56, lr: 0.0000040, train loss: 0.44847, valid loss: 0.73302, Acc: 83.3333.\n",
            "Tue Nov 23 04:49:38 2021 Epoch 57\n"
          ]
        },
        {
          "output_type": "stream",
          "name": "stderr",
          "text": [
            "loss: 0.00061: 100%|██████████| 192/192 [00:10<00:00, 17.78it/s]\n",
            "100%|██████████| 48/48 [00:02<00:00, 22.47it/s]\n"
          ]
        },
        {
          "output_type": "stream",
          "name": "stdout",
          "text": [
            "Tue Nov 23 04:49:51 2021 Epoch 57, lr: 0.0000040, train loss: 0.41940, valid loss: 0.79101, Acc: 75.0000.\n",
            "Tue Nov 23 04:49:51 2021 Epoch 58\n"
          ]
        },
        {
          "output_type": "stream",
          "name": "stderr",
          "text": [
            "loss: 0.02511: 100%|██████████| 192/192 [00:10<00:00, 17.85it/s]\n",
            "100%|██████████| 48/48 [00:02<00:00, 22.52it/s]\n"
          ]
        },
        {
          "output_type": "stream",
          "name": "stdout",
          "text": [
            "Tue Nov 23 04:50:04 2021 Epoch 58, lr: 0.0000040, train loss: 0.36582, valid loss: 0.74345, Acc: 79.1667.\n",
            "Tue Nov 23 04:50:04 2021 Epoch 59\n"
          ]
        },
        {
          "output_type": "stream",
          "name": "stderr",
          "text": [
            "loss: 1.66394: 100%|██████████| 192/192 [00:10<00:00, 17.76it/s]\n",
            "100%|██████████| 48/48 [00:02<00:00, 22.42it/s]\n"
          ]
        },
        {
          "output_type": "stream",
          "name": "stdout",
          "text": [
            "Tue Nov 23 04:50:17 2021 Epoch 59, lr: 0.0000040, train loss: 0.38668, valid loss: 0.70320, Acc: 79.1667.\n",
            "Tue Nov 23 04:50:17 2021 Epoch 60\n"
          ]
        },
        {
          "output_type": "stream",
          "name": "stderr",
          "text": [
            "loss: 0.10501: 100%|██████████| 192/192 [00:10<00:00, 17.87it/s]\n",
            "100%|██████████| 48/48 [00:02<00:00, 22.64it/s]\n"
          ]
        },
        {
          "output_type": "stream",
          "name": "stdout",
          "text": [
            "Tue Nov 23 04:50:30 2021 Epoch 60, lr: 0.0000040, train loss: 0.36035, valid loss: 0.72078, Acc: 81.2500.\n",
            "Tue Nov 23 04:50:30 2021 Epoch 61\n"
          ]
        },
        {
          "output_type": "stream",
          "name": "stderr",
          "text": [
            "loss: 0.05945: 100%|██████████| 192/192 [00:10<00:00, 17.87it/s]\n",
            "100%|██████████| 48/48 [00:02<00:00, 22.45it/s]\n"
          ]
        },
        {
          "output_type": "stream",
          "name": "stdout",
          "text": [
            "Tue Nov 23 04:50:43 2021 Epoch 61, lr: 0.0000040, train loss: 0.46957, valid loss: 0.76415, Acc: 79.1667.\n",
            "Tue Nov 23 04:50:43 2021 Epoch 62\n"
          ]
        },
        {
          "output_type": "stream",
          "name": "stderr",
          "text": [
            "loss: 0.00182: 100%|██████████| 192/192 [00:10<00:00, 17.83it/s]\n",
            "100%|██████████| 48/48 [00:02<00:00, 22.59it/s]\n"
          ]
        },
        {
          "output_type": "stream",
          "name": "stdout",
          "text": [
            "Tue Nov 23 04:50:56 2021 Epoch 62, lr: 0.0000040, train loss: 0.46258, valid loss: 0.65083, Acc: 79.1667.\n",
            "Tue Nov 23 04:50:56 2021 Epoch 63\n"
          ]
        },
        {
          "output_type": "stream",
          "name": "stderr",
          "text": [
            "loss: 4.34626: 100%|██████████| 192/192 [00:10<00:00, 17.80it/s]\n",
            "100%|██████████| 48/48 [00:02<00:00, 22.51it/s]\n"
          ]
        },
        {
          "output_type": "stream",
          "name": "stdout",
          "text": [
            "Tue Nov 23 04:51:09 2021 Epoch 63, lr: 0.0000040, train loss: 0.44408, valid loss: 0.65932, Acc: 79.1667.\n",
            "Tue Nov 23 04:51:09 2021 Epoch 64\n"
          ]
        },
        {
          "output_type": "stream",
          "name": "stderr",
          "text": [
            "loss: 0.00037: 100%|██████████| 192/192 [00:10<00:00, 17.82it/s]\n",
            "100%|██████████| 48/48 [00:02<00:00, 22.33it/s]\n"
          ]
        },
        {
          "output_type": "stream",
          "name": "stdout",
          "text": [
            "Tue Nov 23 04:51:22 2021 Epoch 64, lr: 0.0000040, train loss: 0.42345, valid loss: 0.61564, Acc: 81.2500.\n",
            "Tue Nov 23 04:51:22 2021 Epoch 65\n"
          ]
        },
        {
          "output_type": "stream",
          "name": "stderr",
          "text": [
            "loss: 0.00000: 100%|██████████| 192/192 [00:10<00:00, 17.85it/s]\n",
            "100%|██████████| 48/48 [00:02<00:00, 22.63it/s]\n"
          ]
        },
        {
          "output_type": "stream",
          "name": "stdout",
          "text": [
            "Tue Nov 23 04:51:35 2021 Epoch 65, lr: 0.0000040, train loss: 0.41835, valid loss: 0.59153, Acc: 79.1667.\n",
            "Tue Nov 23 04:51:35 2021 Epoch 66\n"
          ]
        },
        {
          "output_type": "stream",
          "name": "stderr",
          "text": [
            "loss: 1.96802: 100%|██████████| 192/192 [00:10<00:00, 17.80it/s]\n",
            "100%|██████████| 48/48 [00:02<00:00, 22.48it/s]\n"
          ]
        },
        {
          "output_type": "stream",
          "name": "stdout",
          "text": [
            "Tue Nov 23 04:51:48 2021 Epoch 66, lr: 0.0000040, train loss: 0.34101, valid loss: 0.59297, Acc: 83.3333.\n",
            "Tue Nov 23 04:51:48 2021 Epoch 67\n"
          ]
        },
        {
          "output_type": "stream",
          "name": "stderr",
          "text": [
            "loss: 0.00270: 100%|██████████| 192/192 [00:10<00:00, 17.76it/s]\n",
            "100%|██████████| 48/48 [00:02<00:00, 22.53it/s]\n"
          ]
        },
        {
          "output_type": "stream",
          "name": "stdout",
          "text": [
            "Tue Nov 23 04:52:01 2021 Epoch 67, lr: 0.0000040, train loss: 0.38804, valid loss: 0.61994, Acc: 77.0833.\n",
            "Tue Nov 23 04:52:01 2021 Epoch 68\n"
          ]
        },
        {
          "output_type": "stream",
          "name": "stderr",
          "text": [
            "loss: 0.00061: 100%|██████████| 192/192 [00:10<00:00, 17.85it/s]\n",
            "100%|██████████| 48/48 [00:02<00:00, 22.52it/s]\n"
          ]
        },
        {
          "output_type": "stream",
          "name": "stdout",
          "text": [
            "Tue Nov 23 04:52:13 2021 Epoch 68, lr: 0.0000040, train loss: 0.39903, valid loss: 0.68291, Acc: 79.1667.\n",
            "Tue Nov 23 04:52:13 2021 Epoch 69\n"
          ]
        },
        {
          "output_type": "stream",
          "name": "stderr",
          "text": [
            "loss: 0.19636: 100%|██████████| 192/192 [00:10<00:00, 17.76it/s]\n",
            "100%|██████████| 48/48 [00:02<00:00, 22.66it/s]\n"
          ]
        },
        {
          "output_type": "stream",
          "name": "stdout",
          "text": [
            "Tue Nov 23 04:52:26 2021 Epoch 69, lr: 0.0000040, train loss: 0.30395, valid loss: 0.69743, Acc: 81.2500.\n",
            "Tue Nov 23 04:52:26 2021 Epoch 70\n"
          ]
        },
        {
          "output_type": "stream",
          "name": "stderr",
          "text": [
            "loss: 0.24521: 100%|██████████| 192/192 [00:10<00:00, 17.86it/s]\n",
            "100%|██████████| 48/48 [00:02<00:00, 22.48it/s]\n"
          ]
        },
        {
          "output_type": "stream",
          "name": "stdout",
          "text": [
            "Tue Nov 23 04:52:39 2021 Epoch 70, lr: 0.0000040, train loss: 0.44034, valid loss: 0.64599, Acc: 81.2500.\n",
            "Tue Nov 23 04:52:39 2021 Epoch 71\n"
          ]
        },
        {
          "output_type": "stream",
          "name": "stderr",
          "text": [
            "loss: 0.25979: 100%|██████████| 192/192 [00:10<00:00, 17.77it/s]\n",
            "100%|██████████| 48/48 [00:02<00:00, 22.62it/s]\n"
          ]
        },
        {
          "output_type": "stream",
          "name": "stdout",
          "text": [
            "Tue Nov 23 04:52:52 2021 Epoch 71, lr: 0.0000040, train loss: 0.32858, valid loss: 0.69156, Acc: 79.1667.\n",
            "Tue Nov 23 04:52:52 2021 Epoch 72\n"
          ]
        },
        {
          "output_type": "stream",
          "name": "stderr",
          "text": [
            "loss: 0.00280: 100%|██████████| 192/192 [00:10<00:00, 17.79it/s]\n",
            "100%|██████████| 48/48 [00:02<00:00, 22.59it/s]\n"
          ]
        },
        {
          "output_type": "stream",
          "name": "stdout",
          "text": [
            "Tue Nov 23 04:53:05 2021 Epoch 72, lr: 0.0000040, train loss: 0.46836, valid loss: 0.66070, Acc: 81.2500.\n",
            "Tue Nov 23 04:53:05 2021 Epoch 73\n"
          ]
        },
        {
          "output_type": "stream",
          "name": "stderr",
          "text": [
            "loss: 0.13765: 100%|██████████| 192/192 [00:10<00:00, 17.92it/s]\n",
            "100%|██████████| 48/48 [00:02<00:00, 22.51it/s]\n"
          ]
        },
        {
          "output_type": "stream",
          "name": "stdout",
          "text": [
            "Tue Nov 23 04:53:18 2021 Epoch 73, lr: 0.0000040, train loss: 0.26169, valid loss: 0.60301, Acc: 83.3333.\n",
            "Tue Nov 23 04:53:18 2021 Epoch 74\n"
          ]
        },
        {
          "output_type": "stream",
          "name": "stderr",
          "text": [
            "loss: 0.09036: 100%|██████████| 192/192 [00:10<00:00, 17.83it/s]\n",
            "100%|██████████| 48/48 [00:02<00:00, 22.58it/s]\n"
          ]
        },
        {
          "output_type": "stream",
          "name": "stdout",
          "text": [
            "Tue Nov 23 04:53:31 2021 Epoch 74, lr: 0.0000040, train loss: 0.44382, valid loss: 0.66544, Acc: 77.0833.\n",
            "Tue Nov 23 04:53:31 2021 Epoch 75\n"
          ]
        },
        {
          "output_type": "stream",
          "name": "stderr",
          "text": [
            "loss: 0.00123: 100%|██████████| 192/192 [00:10<00:00, 17.80it/s]\n",
            "100%|██████████| 48/48 [00:02<00:00, 22.69it/s]\n"
          ]
        },
        {
          "output_type": "stream",
          "name": "stdout",
          "text": [
            "Tue Nov 23 04:53:44 2021 Epoch 75, lr: 0.0000040, train loss: 0.29816, valid loss: 0.70007, Acc: 81.2500.\n",
            "Tue Nov 23 04:53:44 2021 Epoch 76\n"
          ]
        },
        {
          "output_type": "stream",
          "name": "stderr",
          "text": [
            "loss: 0.08255: 100%|██████████| 192/192 [00:10<00:00, 17.74it/s]\n",
            "100%|██████████| 48/48 [00:02<00:00, 22.41it/s]\n"
          ]
        },
        {
          "output_type": "stream",
          "name": "stdout",
          "text": [
            "Tue Nov 23 04:53:57 2021 Epoch 76, lr: 0.0000040, train loss: 0.38578, valid loss: 0.62486, Acc: 83.3333.\n",
            "Tue Nov 23 04:53:57 2021 Epoch 77\n"
          ]
        },
        {
          "output_type": "stream",
          "name": "stderr",
          "text": [
            "loss: 0.20577: 100%|██████████| 192/192 [00:10<00:00, 17.75it/s]\n",
            "100%|██████████| 48/48 [00:02<00:00, 22.51it/s]\n"
          ]
        },
        {
          "output_type": "stream",
          "name": "stdout",
          "text": [
            "Tue Nov 23 04:54:10 2021 Epoch 77, lr: 0.0000040, train loss: 0.27361, valid loss: 0.67542, Acc: 81.2500.\n",
            "Tue Nov 23 04:54:10 2021 Epoch 78\n"
          ]
        },
        {
          "output_type": "stream",
          "name": "stderr",
          "text": [
            "loss: 0.02051: 100%|██████████| 192/192 [00:10<00:00, 17.83it/s]\n",
            "100%|██████████| 48/48 [00:02<00:00, 22.44it/s]\n"
          ]
        },
        {
          "output_type": "stream",
          "name": "stdout",
          "text": [
            "Tue Nov 23 04:54:23 2021 Epoch 78, lr: 0.0000040, train loss: 0.36126, valid loss: 0.71898, Acc: 79.1667.\n",
            "Tue Nov 23 04:54:23 2021 Epoch 79\n"
          ]
        },
        {
          "output_type": "stream",
          "name": "stderr",
          "text": [
            "loss: 0.92710: 100%|██████████| 192/192 [00:10<00:00, 17.75it/s]\n",
            "100%|██████████| 48/48 [00:02<00:00, 22.47it/s]\n"
          ]
        },
        {
          "output_type": "stream",
          "name": "stdout",
          "text": [
            "Tue Nov 23 04:54:36 2021 Epoch 79, lr: 0.0000040, train loss: 0.33910, valid loss: 0.67323, Acc: 83.3333.\n",
            "Tue Nov 23 04:54:36 2021 Epoch 80\n"
          ]
        },
        {
          "output_type": "stream",
          "name": "stderr",
          "text": [
            "loss: 0.03144: 100%|██████████| 192/192 [00:10<00:00, 17.73it/s]\n",
            "100%|██████████| 48/48 [00:02<00:00, 22.72it/s]\n"
          ]
        },
        {
          "output_type": "stream",
          "name": "stdout",
          "text": [
            "Tue Nov 23 04:54:49 2021 Epoch 80, lr: 0.0000040, train loss: 0.39244, valid loss: 0.61857, Acc: 79.1667.\n",
            "Tue Nov 23 04:54:49 2021 Epoch 81\n"
          ]
        },
        {
          "output_type": "stream",
          "name": "stderr",
          "text": [
            "loss: 0.03791: 100%|██████████| 192/192 [00:10<00:00, 17.75it/s]\n",
            "100%|██████████| 48/48 [00:02<00:00, 22.40it/s]\n"
          ]
        },
        {
          "output_type": "stream",
          "name": "stdout",
          "text": [
            "Tue Nov 23 04:55:02 2021 Epoch 81, lr: 0.0000040, train loss: 0.41725, valid loss: 0.64632, Acc: 81.2500.\n",
            "Tue Nov 23 04:55:02 2021 Epoch 82\n"
          ]
        },
        {
          "output_type": "stream",
          "name": "stderr",
          "text": [
            "loss: 0.00330: 100%|██████████| 192/192 [00:10<00:00, 17.83it/s]\n",
            "100%|██████████| 48/48 [00:02<00:00, 22.50it/s]\n"
          ]
        },
        {
          "output_type": "stream",
          "name": "stdout",
          "text": [
            "Tue Nov 23 04:55:15 2021 Epoch 82, lr: 0.0000040, train loss: 0.30825, valid loss: 0.74751, Acc: 79.1667.\n",
            "Tue Nov 23 04:55:15 2021 Epoch 83\n"
          ]
        },
        {
          "output_type": "stream",
          "name": "stderr",
          "text": [
            "loss: 0.19685: 100%|██████████| 192/192 [00:10<00:00, 17.72it/s]\n",
            "100%|██████████| 48/48 [00:02<00:00, 22.31it/s]\n"
          ]
        },
        {
          "output_type": "stream",
          "name": "stdout",
          "text": [
            "Tue Nov 23 04:55:28 2021 Epoch 83, lr: 0.0000040, train loss: 0.31184, valid loss: 0.68305, Acc: 77.0833.\n",
            "Tue Nov 23 04:55:28 2021 Epoch 84\n"
          ]
        },
        {
          "output_type": "stream",
          "name": "stderr",
          "text": [
            "loss: 0.03037: 100%|██████████| 192/192 [00:10<00:00, 17.74it/s]\n",
            "100%|██████████| 48/48 [00:02<00:00, 22.35it/s]\n"
          ]
        },
        {
          "output_type": "stream",
          "name": "stdout",
          "text": [
            "Tue Nov 23 04:55:41 2021 Epoch 84, lr: 0.0000040, train loss: 0.45579, valid loss: 0.78609, Acc: 83.3333.\n",
            "Tue Nov 23 04:55:41 2021 Epoch 85\n"
          ]
        },
        {
          "output_type": "stream",
          "name": "stderr",
          "text": [
            "loss: 1.35600: 100%|██████████| 192/192 [00:10<00:00, 17.72it/s]\n",
            "100%|██████████| 48/48 [00:02<00:00, 22.45it/s]\n"
          ]
        },
        {
          "output_type": "stream",
          "name": "stdout",
          "text": [
            "Tue Nov 23 04:55:54 2021 Epoch 85, lr: 0.0000040, train loss: 0.35538, valid loss: 0.67927, Acc: 83.3333.\n",
            "Tue Nov 23 04:55:54 2021 Epoch 86\n"
          ]
        },
        {
          "output_type": "stream",
          "name": "stderr",
          "text": [
            "loss: 0.00810: 100%|██████████| 192/192 [00:10<00:00, 17.72it/s]\n",
            "100%|██████████| 48/48 [00:02<00:00, 22.51it/s]\n"
          ]
        },
        {
          "output_type": "stream",
          "name": "stdout",
          "text": [
            "Tue Nov 23 04:56:07 2021 Epoch 86, lr: 0.0000040, train loss: 0.39720, valid loss: 0.73228, Acc: 79.1667.\n",
            "Tue Nov 23 04:56:07 2021 Epoch 87\n"
          ]
        },
        {
          "output_type": "stream",
          "name": "stderr",
          "text": [
            "loss: 1.30032: 100%|██████████| 192/192 [00:10<00:00, 17.83it/s]\n",
            "100%|██████████| 48/48 [00:02<00:00, 22.65it/s]\n"
          ]
        },
        {
          "output_type": "stream",
          "name": "stdout",
          "text": [
            "Tue Nov 23 04:56:20 2021 Epoch 87, lr: 0.0000040, train loss: 0.30547, valid loss: 0.79595, Acc: 79.1667.\n",
            "Tue Nov 23 04:56:20 2021 Epoch 88\n"
          ]
        },
        {
          "output_type": "stream",
          "name": "stderr",
          "text": [
            "loss: 0.04869: 100%|██████████| 192/192 [00:10<00:00, 17.77it/s]\n",
            "100%|██████████| 48/48 [00:02<00:00, 22.57it/s]\n"
          ]
        },
        {
          "output_type": "stream",
          "name": "stdout",
          "text": [
            "Tue Nov 23 04:56:33 2021 Epoch 88, lr: 0.0000040, train loss: 0.33858, valid loss: 0.65990, Acc: 83.3333.\n",
            "Tue Nov 23 04:56:33 2021 Epoch 89\n"
          ]
        },
        {
          "output_type": "stream",
          "name": "stderr",
          "text": [
            "loss: 1.68296: 100%|██████████| 192/192 [00:10<00:00, 17.83it/s]\n",
            "100%|██████████| 48/48 [00:02<00:00, 22.52it/s]\n"
          ]
        },
        {
          "output_type": "stream",
          "name": "stdout",
          "text": [
            "Tue Nov 23 04:56:46 2021 Epoch 89, lr: 0.0000040, train loss: 0.37259, valid loss: 0.67201, Acc: 83.3333.\n",
            "Tue Nov 23 04:56:46 2021 Epoch 90\n"
          ]
        },
        {
          "output_type": "stream",
          "name": "stderr",
          "text": [
            "loss: 0.05533: 100%|██████████| 192/192 [00:10<00:00, 17.67it/s]\n",
            "100%|██████████| 48/48 [00:02<00:00, 22.61it/s]\n"
          ]
        },
        {
          "output_type": "stream",
          "name": "stdout",
          "text": [
            "Tue Nov 23 04:56:59 2021 Epoch 90, lr: 0.0000040, train loss: 0.38033, valid loss: 0.75313, Acc: 79.1667.\n",
            "Tue Nov 23 04:56:59 2021 Epoch 91\n"
          ]
        },
        {
          "output_type": "stream",
          "name": "stderr",
          "text": [
            "loss: 0.00032: 100%|██████████| 192/192 [00:10<00:00, 17.69it/s]\n",
            "100%|██████████| 48/48 [00:02<00:00, 22.42it/s]\n"
          ]
        },
        {
          "output_type": "stream",
          "name": "stdout",
          "text": [
            "Tue Nov 23 04:57:12 2021 Epoch 91, lr: 0.0000040, train loss: 0.38621, valid loss: 0.69560, Acc: 81.2500.\n",
            "Tue Nov 23 04:57:12 2021 Epoch 92\n"
          ]
        },
        {
          "output_type": "stream",
          "name": "stderr",
          "text": [
            "loss: 0.03478: 100%|██████████| 192/192 [00:10<00:00, 17.66it/s]\n",
            "100%|██████████| 48/48 [00:02<00:00, 22.46it/s]\n"
          ]
        },
        {
          "output_type": "stream",
          "name": "stdout",
          "text": [
            "Tue Nov 23 04:57:25 2021 Epoch 92, lr: 0.0000040, train loss: 0.37464, valid loss: 0.71924, Acc: 81.2500.\n",
            "Tue Nov 23 04:57:25 2021 Epoch 93\n"
          ]
        },
        {
          "output_type": "stream",
          "name": "stderr",
          "text": [
            "loss: 0.35234: 100%|██████████| 192/192 [00:10<00:00, 17.74it/s]\n",
            "100%|██████████| 48/48 [00:02<00:00, 22.55it/s]\n"
          ]
        },
        {
          "output_type": "stream",
          "name": "stdout",
          "text": [
            "Tue Nov 23 04:57:38 2021 Epoch 93, lr: 0.0000040, train loss: 0.39070, valid loss: 0.67425, Acc: 81.2500.\n",
            "Tue Nov 23 04:57:38 2021 Epoch 94\n"
          ]
        },
        {
          "output_type": "stream",
          "name": "stderr",
          "text": [
            "loss: 0.10463: 100%|██████████| 192/192 [00:10<00:00, 17.79it/s]\n",
            "100%|██████████| 48/48 [00:02<00:00, 22.65it/s]\n"
          ]
        },
        {
          "output_type": "stream",
          "name": "stdout",
          "text": [
            "Tue Nov 23 04:57:51 2021 Epoch 94, lr: 0.0000040, train loss: 0.39855, valid loss: 0.76863, Acc: 79.1667.\n",
            "Tue Nov 23 04:57:51 2021 Epoch 95\n"
          ]
        },
        {
          "output_type": "stream",
          "name": "stderr",
          "text": [
            "loss: 0.02518: 100%|██████████| 192/192 [00:10<00:00, 17.60it/s]\n",
            "100%|██████████| 48/48 [00:02<00:00, 22.71it/s]\n"
          ]
        },
        {
          "output_type": "stream",
          "name": "stdout",
          "text": [
            "Tue Nov 23 04:58:04 2021 Epoch 95, lr: 0.0000040, train loss: 0.33049, valid loss: 0.68398, Acc: 83.3333.\n",
            "Tue Nov 23 04:58:04 2021 Epoch 96\n"
          ]
        },
        {
          "output_type": "stream",
          "name": "stderr",
          "text": [
            "loss: 0.00847: 100%|██████████| 192/192 [00:10<00:00, 17.78it/s]\n",
            "100%|██████████| 48/48 [00:02<00:00, 22.43it/s]\n"
          ]
        },
        {
          "output_type": "stream",
          "name": "stdout",
          "text": [
            "Tue Nov 23 04:58:17 2021 Epoch 96, lr: 0.0000040, train loss: 0.29692, valid loss: 0.72499, Acc: 81.2500.\n",
            "Tue Nov 23 04:58:17 2021 Epoch 97\n"
          ]
        },
        {
          "output_type": "stream",
          "name": "stderr",
          "text": [
            "loss: 0.00070: 100%|██████████| 192/192 [00:10<00:00, 17.71it/s]\n",
            "100%|██████████| 48/48 [00:02<00:00, 22.42it/s]\n"
          ]
        },
        {
          "output_type": "stream",
          "name": "stdout",
          "text": [
            "Tue Nov 23 04:58:30 2021 Epoch 97, lr: 0.0000040, train loss: 0.27960, valid loss: 0.72408, Acc: 81.2500.\n",
            "Tue Nov 23 04:58:30 2021 Epoch 98\n"
          ]
        },
        {
          "output_type": "stream",
          "name": "stderr",
          "text": [
            "loss: 1.14203: 100%|██████████| 192/192 [00:10<00:00, 17.83it/s]\n",
            "100%|██████████| 48/48 [00:02<00:00, 22.64it/s]\n"
          ]
        },
        {
          "output_type": "stream",
          "name": "stdout",
          "text": [
            "Tue Nov 23 04:58:43 2021 Epoch 98, lr: 0.0000040, train loss: 0.31536, valid loss: 0.80894, Acc: 81.2500.\n",
            "Tue Nov 23 04:58:43 2021 Epoch 99\n"
          ]
        },
        {
          "output_type": "stream",
          "name": "stderr",
          "text": [
            "loss: 0.00295: 100%|██████████| 192/192 [00:10<00:00, 17.73it/s]\n",
            "100%|██████████| 48/48 [00:02<00:00, 22.44it/s]\n"
          ]
        },
        {
          "output_type": "stream",
          "name": "stdout",
          "text": [
            "Tue Nov 23 04:58:56 2021 Epoch 99, lr: 0.0000040, train loss: 0.24159, valid loss: 0.83698, Acc: 77.0833.\n",
            "Tue Nov 23 04:58:56 2021 Epoch 100\n"
          ]
        },
        {
          "output_type": "stream",
          "name": "stderr",
          "text": [
            "loss: 0.01832: 100%|██████████| 192/192 [00:10<00:00, 17.72it/s]\n",
            "100%|██████████| 48/48 [00:02<00:00, 22.40it/s]\n"
          ]
        },
        {
          "output_type": "stream",
          "name": "stdout",
          "text": [
            "Tue Nov 23 04:59:09 2021 Epoch 100, lr: 0.0000040, train loss: 0.39987, valid loss: 0.79865, Acc: 81.2500.\n",
            "가장 좋은 성능의 모델 저장 완료!\n",
            "학습 종료\n",
            "\n",
            "테스트셋으로 최종 정확도를 계산합니다.\n"
          ]
        },
        {
          "output_type": "stream",
          "name": "stderr",
          "text": [
            "100%|██████████| 60/60 [00:02<00:00, 22.48it/s]"
          ]
        },
        {
          "output_type": "stream",
          "name": "stdout",
          "text": [
            "\t새로운 이미지에 대한 정확도: 88.33333333333333.\n"
          ]
        },
        {
          "output_type": "stream",
          "name": "stderr",
          "text": [
            "\n"
          ]
        }
      ]
    }
  ]
}