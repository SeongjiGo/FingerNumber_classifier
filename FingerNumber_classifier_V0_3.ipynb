{
  "nbformat": 4,
  "nbformat_minor": 0,
  "metadata": {
    "colab": {
      "name": "FingerNumber_classifier_V0.3.ipynb",
      "provenance": [],
      "collapsed_sections": [],
      "mount_file_id": "1F4QkB5xhrFAS0oO7g1WOnT-mfwcZPv5L",
      "authorship_tag": "ABX9TyOwQ66yciLfRlmzwvOGgypc",
      "include_colab_link": true
    },
    "kernelspec": {
      "name": "python3",
      "display_name": "Python 3"
    },
    "language_info": {
      "name": "python"
    },
    "accelerator": "GPU",
    "widgets": {
      "application/vnd.jupyter.widget-state+json": {
        "1aa45ab44c804d7b80b8e3bb76582368": {
          "model_module": "@jupyter-widgets/controls",
          "model_name": "HBoxModel",
          "model_module_version": "1.5.0",
          "state": {
            "_view_name": "HBoxView",
            "_dom_classes": [],
            "_model_name": "HBoxModel",
            "_view_module": "@jupyter-widgets/controls",
            "_model_module_version": "1.5.0",
            "_view_count": null,
            "_view_module_version": "1.5.0",
            "box_style": "",
            "layout": "IPY_MODEL_d686a388d7124655becad356a02a8ccd",
            "_model_module": "@jupyter-widgets/controls",
            "children": [
              "IPY_MODEL_9b45a32ce2944103881f6f3856a57a98",
              "IPY_MODEL_27f7444a77db4ef7b92c069956bfcb03",
              "IPY_MODEL_fecffd827a14474ba76c6fd32d7554fe"
            ]
          }
        },
        "d686a388d7124655becad356a02a8ccd": {
          "model_module": "@jupyter-widgets/base",
          "model_name": "LayoutModel",
          "model_module_version": "1.2.0",
          "state": {
            "_view_name": "LayoutView",
            "grid_template_rows": null,
            "right": null,
            "justify_content": null,
            "_view_module": "@jupyter-widgets/base",
            "overflow": null,
            "_model_module_version": "1.2.0",
            "_view_count": null,
            "flex_flow": null,
            "width": null,
            "min_width": null,
            "border": null,
            "align_items": null,
            "bottom": null,
            "_model_module": "@jupyter-widgets/base",
            "top": null,
            "grid_column": null,
            "overflow_y": null,
            "overflow_x": null,
            "grid_auto_flow": null,
            "grid_area": null,
            "grid_template_columns": null,
            "flex": null,
            "_model_name": "LayoutModel",
            "justify_items": null,
            "grid_row": null,
            "max_height": null,
            "align_content": null,
            "visibility": null,
            "align_self": null,
            "height": null,
            "min_height": null,
            "padding": null,
            "grid_auto_rows": null,
            "grid_gap": null,
            "max_width": null,
            "order": null,
            "_view_module_version": "1.2.0",
            "grid_template_areas": null,
            "object_position": null,
            "object_fit": null,
            "grid_auto_columns": null,
            "margin": null,
            "display": null,
            "left": null
          }
        },
        "9b45a32ce2944103881f6f3856a57a98": {
          "model_module": "@jupyter-widgets/controls",
          "model_name": "HTMLModel",
          "model_module_version": "1.5.0",
          "state": {
            "_view_name": "HTMLView",
            "style": "IPY_MODEL_286c9fde568a45d1b2bf9be807308524",
            "_dom_classes": [],
            "description": "",
            "_model_name": "HTMLModel",
            "placeholder": "​",
            "_view_module": "@jupyter-widgets/controls",
            "_model_module_version": "1.5.0",
            "value": "100%",
            "_view_count": null,
            "_view_module_version": "1.5.0",
            "description_tooltip": null,
            "_model_module": "@jupyter-widgets/controls",
            "layout": "IPY_MODEL_ab652d2887a543218904df4f0b2abe69"
          }
        },
        "27f7444a77db4ef7b92c069956bfcb03": {
          "model_module": "@jupyter-widgets/controls",
          "model_name": "FloatProgressModel",
          "model_module_version": "1.5.0",
          "state": {
            "_view_name": "ProgressView",
            "style": "IPY_MODEL_11330c2942b24aff9f7820fc892fe72c",
            "_dom_classes": [],
            "description": "",
            "_model_name": "FloatProgressModel",
            "bar_style": "success",
            "max": 553433881,
            "_view_module": "@jupyter-widgets/controls",
            "_model_module_version": "1.5.0",
            "value": 553433881,
            "_view_count": null,
            "_view_module_version": "1.5.0",
            "orientation": "horizontal",
            "min": 0,
            "description_tooltip": null,
            "_model_module": "@jupyter-widgets/controls",
            "layout": "IPY_MODEL_00bd8e1da23b4c6381a91ad6af2c398d"
          }
        },
        "fecffd827a14474ba76c6fd32d7554fe": {
          "model_module": "@jupyter-widgets/controls",
          "model_name": "HTMLModel",
          "model_module_version": "1.5.0",
          "state": {
            "_view_name": "HTMLView",
            "style": "IPY_MODEL_09837e085eda41039fa2a5c039de5085",
            "_dom_classes": [],
            "description": "",
            "_model_name": "HTMLModel",
            "placeholder": "​",
            "_view_module": "@jupyter-widgets/controls",
            "_model_module_version": "1.5.0",
            "value": " 528M/528M [00:05&lt;00:00, 89.4MB/s]",
            "_view_count": null,
            "_view_module_version": "1.5.0",
            "description_tooltip": null,
            "_model_module": "@jupyter-widgets/controls",
            "layout": "IPY_MODEL_7905204c3f6e4a7bb4060a9c01311562"
          }
        },
        "286c9fde568a45d1b2bf9be807308524": {
          "model_module": "@jupyter-widgets/controls",
          "model_name": "DescriptionStyleModel",
          "model_module_version": "1.5.0",
          "state": {
            "_view_name": "StyleView",
            "_model_name": "DescriptionStyleModel",
            "description_width": "",
            "_view_module": "@jupyter-widgets/base",
            "_model_module_version": "1.5.0",
            "_view_count": null,
            "_view_module_version": "1.2.0",
            "_model_module": "@jupyter-widgets/controls"
          }
        },
        "ab652d2887a543218904df4f0b2abe69": {
          "model_module": "@jupyter-widgets/base",
          "model_name": "LayoutModel",
          "model_module_version": "1.2.0",
          "state": {
            "_view_name": "LayoutView",
            "grid_template_rows": null,
            "right": null,
            "justify_content": null,
            "_view_module": "@jupyter-widgets/base",
            "overflow": null,
            "_model_module_version": "1.2.0",
            "_view_count": null,
            "flex_flow": null,
            "width": null,
            "min_width": null,
            "border": null,
            "align_items": null,
            "bottom": null,
            "_model_module": "@jupyter-widgets/base",
            "top": null,
            "grid_column": null,
            "overflow_y": null,
            "overflow_x": null,
            "grid_auto_flow": null,
            "grid_area": null,
            "grid_template_columns": null,
            "flex": null,
            "_model_name": "LayoutModel",
            "justify_items": null,
            "grid_row": null,
            "max_height": null,
            "align_content": null,
            "visibility": null,
            "align_self": null,
            "height": null,
            "min_height": null,
            "padding": null,
            "grid_auto_rows": null,
            "grid_gap": null,
            "max_width": null,
            "order": null,
            "_view_module_version": "1.2.0",
            "grid_template_areas": null,
            "object_position": null,
            "object_fit": null,
            "grid_auto_columns": null,
            "margin": null,
            "display": null,
            "left": null
          }
        },
        "11330c2942b24aff9f7820fc892fe72c": {
          "model_module": "@jupyter-widgets/controls",
          "model_name": "ProgressStyleModel",
          "model_module_version": "1.5.0",
          "state": {
            "_view_name": "StyleView",
            "_model_name": "ProgressStyleModel",
            "description_width": "",
            "_view_module": "@jupyter-widgets/base",
            "_model_module_version": "1.5.0",
            "_view_count": null,
            "_view_module_version": "1.2.0",
            "bar_color": null,
            "_model_module": "@jupyter-widgets/controls"
          }
        },
        "00bd8e1da23b4c6381a91ad6af2c398d": {
          "model_module": "@jupyter-widgets/base",
          "model_name": "LayoutModel",
          "model_module_version": "1.2.0",
          "state": {
            "_view_name": "LayoutView",
            "grid_template_rows": null,
            "right": null,
            "justify_content": null,
            "_view_module": "@jupyter-widgets/base",
            "overflow": null,
            "_model_module_version": "1.2.0",
            "_view_count": null,
            "flex_flow": null,
            "width": null,
            "min_width": null,
            "border": null,
            "align_items": null,
            "bottom": null,
            "_model_module": "@jupyter-widgets/base",
            "top": null,
            "grid_column": null,
            "overflow_y": null,
            "overflow_x": null,
            "grid_auto_flow": null,
            "grid_area": null,
            "grid_template_columns": null,
            "flex": null,
            "_model_name": "LayoutModel",
            "justify_items": null,
            "grid_row": null,
            "max_height": null,
            "align_content": null,
            "visibility": null,
            "align_self": null,
            "height": null,
            "min_height": null,
            "padding": null,
            "grid_auto_rows": null,
            "grid_gap": null,
            "max_width": null,
            "order": null,
            "_view_module_version": "1.2.0",
            "grid_template_areas": null,
            "object_position": null,
            "object_fit": null,
            "grid_auto_columns": null,
            "margin": null,
            "display": null,
            "left": null
          }
        },
        "09837e085eda41039fa2a5c039de5085": {
          "model_module": "@jupyter-widgets/controls",
          "model_name": "DescriptionStyleModel",
          "model_module_version": "1.5.0",
          "state": {
            "_view_name": "StyleView",
            "_model_name": "DescriptionStyleModel",
            "description_width": "",
            "_view_module": "@jupyter-widgets/base",
            "_model_module_version": "1.5.0",
            "_view_count": null,
            "_view_module_version": "1.2.0",
            "_model_module": "@jupyter-widgets/controls"
          }
        },
        "7905204c3f6e4a7bb4060a9c01311562": {
          "model_module": "@jupyter-widgets/base",
          "model_name": "LayoutModel",
          "model_module_version": "1.2.0",
          "state": {
            "_view_name": "LayoutView",
            "grid_template_rows": null,
            "right": null,
            "justify_content": null,
            "_view_module": "@jupyter-widgets/base",
            "overflow": null,
            "_model_module_version": "1.2.0",
            "_view_count": null,
            "flex_flow": null,
            "width": null,
            "min_width": null,
            "border": null,
            "align_items": null,
            "bottom": null,
            "_model_module": "@jupyter-widgets/base",
            "top": null,
            "grid_column": null,
            "overflow_y": null,
            "overflow_x": null,
            "grid_auto_flow": null,
            "grid_area": null,
            "grid_template_columns": null,
            "flex": null,
            "_model_name": "LayoutModel",
            "justify_items": null,
            "grid_row": null,
            "max_height": null,
            "align_content": null,
            "visibility": null,
            "align_self": null,
            "height": null,
            "min_height": null,
            "padding": null,
            "grid_auto_rows": null,
            "grid_gap": null,
            "max_width": null,
            "order": null,
            "_view_module_version": "1.2.0",
            "grid_template_areas": null,
            "object_position": null,
            "object_fit": null,
            "grid_auto_columns": null,
            "margin": null,
            "display": null,
            "left": null
          }
        }
      }
    }
  },
  "cells": [
    {
      "cell_type": "markdown",
      "metadata": {
        "id": "view-in-github",
        "colab_type": "text"
      },
      "source": [
        "<a href=\"https://colab.research.google.com/github/SeongjiGo/FingerNumber_classifier/blob/master/FingerNumber_classifier_V0_3.ipynb\" target=\"_parent\"><img src=\"https://colab.research.google.com/assets/colab-badge.svg\" alt=\"Open In Colab\"/></a>"
      ]
    },
    {
      "cell_type": "code",
      "metadata": {
        "colab": {
          "base_uri": "https://localhost:8080/"
        },
        "id": "q8xXWfV86dgA",
        "outputId": "316cbb41-a900-415f-dc00-bf7fab6865a9"
      },
      "source": [
        "# 데이터 셋 구성하기, 경로를 파악한 후\n",
        "# 클래스 이름(name), 클래스(class), 그리고 학습을 위한 클래스를 숫자로 나타낸 타겟(target)을 csv파일에 저장\n",
        "import os\n",
        "from glob import glob # 인자로 받은 패턴과 이름이 일치하는 모든 파일과 디렉터리의 리스트 반환\n",
        "import pandas as pd\n",
        "\n",
        "file_path = './drive/MyDrive/FingerNumber_classifier_project/dataSet/*/*.png' # 데이터의 경로 저장\n",
        "file_list = glob(file_path)\n",
        "\n",
        "data_dict = {'image_name':[], 'class':[], 'target':[], 'file_path':[]}\n",
        "# 학습에 사용하기 위한 넘버링(?)\n",
        "target_dict = {'yi_1': 0, 'er_2': 1, 'san_3': 2, 'si_4':3, 'wu_5':4, 'liu_6':5, 'qi_7':6, 'ba_8':7, 'jiu_9':8, 'shi_10': 9}\n",
        "\n",
        "for path in file_list:\n",
        "    data_dict['file_path'].append(path) # file_path 항목에 파일 경로 저장\n",
        "\n",
        "    path_list = path.split(os.path.sep) # os별 파일 경로 구분 문자로 split\n",
        "\n",
        "    data_dict['image_name'].append(path_list[-1]) # 이미지 이름 저장\n",
        "    data_dict['class'].append(path_list[-2]) # 어떤 클래스인지 저장\n",
        "    data_dict['target'].append(target_dict[path_list[-2]]) # 그 클래스의 번호 저장\n",
        "\n",
        "train_df = pd.DataFrame(data_dict) # 데이터 프레임 화\n",
        "train_df.to_csv(\"./drive/MyDrive/FingerNumber_classifier_project/train.csv\", mode='w') # csv파일로 생성\n",
        "print('csv파일 생성 완료!')\n",
        "\n"
      ],
      "execution_count": 78,
      "outputs": [
        {
          "output_type": "stream",
          "name": "stdout",
          "text": [
            "csv파일 생성 완료!\n"
          ]
        }
      ]
    },
    {
      "cell_type": "code",
      "source": [
        "from sklearn.model_selection import train_test_split # 스플릿 모듈\n",
        "def get_df():\n",
        "    # csv 파일 읽어서 DataFrame으로 저장\n",
        "    df = pd.read_csv(\"./drive/MyDrive/FingerNumber_classifier_project/train.csv\") # csv로 불러와서 데이터 저장\n",
        "    print('csv 파일 DataFrame으로 저장 완료!')\n",
        "\n",
        "    # 데이터셋을 train, val, test로 나누기\n",
        "    df_train, df_test = train_test_split(df, test_size=0.1)\n",
        "    df_train, df_val = train_test_split(df_train, test_size=0.2)\n",
        "    print('훈련셋, 검증셋, 테스트셋 분할 완료!')\n",
        "    return df_train, df_val, df_test\n",
        "\n",
        "# 데이터셋 읽어오기\n",
        "df_train, df_val, df_test = get_df()\n",
        "print(f'훈련셋 개수:{len(df_train)}, 검증셋 개수:{len(df_val)}, 테스트셋 개수: {len(df_test)}') # 192, 48, 60\n",
        "\n"
      ],
      "metadata": {
        "id": "peeXtjdKu7ZU",
        "colab": {
          "base_uri": "https://localhost:8080/"
        },
        "outputId": "a8a2bb5a-4c26-4cd4-aa0a-e1d9e7d7570e"
      },
      "execution_count": 79,
      "outputs": [
        {
          "output_type": "stream",
          "name": "stdout",
          "text": [
            "csv 파일 DataFrame으로 저장 완료!\n",
            "훈련셋, 검증셋, 테스트셋 분할 완료!\n",
            "훈련셋 개수:216, 검증셋 개수:54, 테스트셋 개수: 30\n"
          ]
        }
      ]
    },
    {
      "cell_type": "code",
      "source": [
        "import torch\n",
        "from torch.utils.data import Dataset\n",
        "from PIL import Image\n",
        "\n",
        "# 학습시, 데이터셋을 사용할 수 있도록 만들기\n",
        "class Classification_Dataset(Dataset):\n",
        "    def __init__(self, csv, mode, transform=None):\n",
        "        self.csv = csv.reset_index(drop=True) # random으로 섞인 데이터의 인덱스를 reset 시켜서 다시 부여한다.\n",
        "        self.transform = transform\n",
        "\n",
        "    def __len__(self):\n",
        "        return self.csv.shape[0] # csv 파일의 행 개수 == 데이터 개수\n",
        "\n",
        "    def __getitem__(self, index):\n",
        "        row = self.csv.iloc[index] # 주어진 index에 대한 데이터 뽑아오기\n",
        "        image = Image.open(row.file_path).convert('RGB') # 파일 경로로 부터 이미지를 읽고 rgb로 변환하기\n",
        "        target = torch.tensor(self.csv.iloc[index].target).long()\n",
        "\n",
        "        if self.transform:\n",
        "            image = self.transform(image) # 이미지에 transform 적용하기\n",
        "\n",
        "        return image, target # 이미지와 target return하기기\n",
        "\n"
      ],
      "metadata": {
        "id": "Da_1WXjRvC1_"
      },
      "execution_count": 80,
      "outputs": []
    },
    {
      "cell_type": "code",
      "source": [
        "\n",
        "# normalize를 위해 rgb 채널의 mean, std 값 구하기\n",
        "\n",
        "import numpy as np\n",
        "from torchvision import transforms\n",
        "dataset_train = Classification_Dataset(df_train, 'train', transform=transforms.ToTensor())\n",
        "\n",
        "rgb_mean = [np.mean(x.numpy(), axis=(1, 2)) for x, _ in dataset_train]\n",
        "rgb_std = [np.std(x.numpy(), axis=(1, 2)) for x, _ in dataset_train]\n",
        "\n",
        "# 각 데이터 채널별로 mean, std 나타내기\n",
        "c_mean = []\n",
        "c_std = []\n",
        "for i in range(3):\n",
        "    c_mean.append(np.mean([m[i] for m in rgb_mean]))\n",
        "    c_std.append(np.std([s[i] for s in rgb_std]))\n",
        "\n",
        "print('rgb의 mean, std값 계산 완료!')"
      ],
      "metadata": {
        "id": "fnEFbmFBvAOY",
        "colab": {
          "base_uri": "https://localhost:8080/"
        },
        "outputId": "ad40ff2b-2668-437f-cfb9-908bf29638b3"
      },
      "execution_count": 81,
      "outputs": [
        {
          "output_type": "stream",
          "name": "stdout",
          "text": [
            "rgb의 mean, std값 계산 완료!\n"
          ]
        }
      ]
    },
    {
      "cell_type": "code",
      "source": [
        "\n",
        "# 사용자 모델 트랜스폼\n",
        "def get_transforms(image_size):\n",
        "    transforms_train = transforms.Compose([\n",
        "        transforms.RandomRotation(30), # 이미지의 다양화를 위해 랜덤으로 +- 30도 가량 회전\n",
        "        transforms.RandomResizedCrop(image_size), # 이미지 사이즈 축소\n",
        "        transforms.RandomHorizontalFlip(), # 이미지를 랜덤으로 수평하게 뒤집음.\n",
        "        transforms.ToTensor(), # 데이터 타입을 텐서로 변경\n",
        "        transforms.Normalize(c_mean, c_std) ]) # 정규화\n",
        "\n",
        "    transforms_val = transforms.Compose([transforms.Resize(image_size + 30), \n",
        "                                            transforms.CenterCrop(image_size), # 이미지의 가운데 부분을 인자값으로 자름\n",
        "                                            transforms.ToTensor(),\n",
        "                                            transforms.Normalize(c_mean, c_std)])\n",
        "    \n",
        "    transforms_test = transforms.Compose([transforms.Resize(image_size),\n",
        "                                            transforms.ToTensor(),\n",
        "                                            transforms.Normalize(c_mean, c_std)]) # 정규화\n",
        "\n",
        "    return transforms_train, transforms_val, transforms_test\n",
        "\n",
        "# 모델 트랜스폼 가져오기\n",
        "transforms_train, transforms_val, transforms_test = get_transforms(224)\n",
        "print(\"모델 트랜스폼 불러오기 완료!\")\n"
      ],
      "metadata": {
        "id": "sVYC6a1VuQUF",
        "colab": {
          "base_uri": "https://localhost:8080/"
        },
        "outputId": "255e70ab-d52d-4ad0-8cc1-b652bbca164c"
      },
      "execution_count": 82,
      "outputs": [
        {
          "output_type": "stream",
          "name": "stdout",
          "text": [
            "모델 트랜스폼 불러오기 완료!\n"
          ]
        }
      ]
    },
    {
      "cell_type": "code",
      "source": [
        "# dataset class 객체 만들기\n",
        "dataset_train = Classification_Dataset(df_train, 'train', transform=transforms_train)\n",
        "dataset_val = Classification_Dataset(df_val, 'valid', transform=transforms_val)\n",
        "dataset_test = Classification_Dataset(df_test, 'test', transform=transforms_test) \n",
        "print('dataset class 객체 생성 완료!')\n",
        "\n",
        "# DataLoader는 Classification_Dataset으로 받아온 데이터(이미지, target)를 batch로 묶어 return합니다.\n",
        "from torch.utils.data.sampler import RandomSampler\n",
        "from torch.utils.data import DataLoader\n",
        "\n",
        "train_loader = torch.utils.data.DataLoader(dataset_train, batch_size=1, sampler=RandomSampler(dataset_train), num_workers=0)\n",
        "valid_loader = torch.utils.data.DataLoader(dataset_val, batch_size=1, num_workers=0)\n",
        "test_loader = torch.utils.data.DataLoader(dataset_test, batch_size=1, num_workers=0)\n",
        "print('데이터 로더 완료!')\n",
        "#### 데이터 준비 파트는 마무리가 되었습니다. 큰 틀을 살펴보면서 정리해보도록 하겠습니다.\n",
        "# 0. 데이터셋 다운받기`: 여러분이 수집한 데이터의 클래스별로 폴더를 구성하여 데이터셋을 준비합니다.\n",
        "# 1. 데이터셋 구성하기`: 저장한 데이터의 정보를 csv 파일로 만듭니다.\n",
        "# 2. 데이터셋 불러오기`: csv 파일을 통해 데이터를 불러와서 train, validation, test로 나눠줍니다.\n",
        "# 3. 학습 시, 데이터셋을 사용할 수 있도록 만들기\n",
        "#     3-1. Dataset Class`: pytorch가 dataset을 어떻게 읽을지 알려주는 클래스를 만듭니다. (데이터셋 크기와 지정한 인덱스별로 데이터를 리턴해주는 len, getitem 함수가 포함되어 있습니다.)\n",
        "#     3-2. Transforms & Augmentation`: 학습을 위해 데이터를 가공합니다.\n",
        "#     3-3. Data Loaders`: 배치별로 데이터를 묶어줍니다. Training시, 배치단위별로 데이터가 호출됩니다."
      ],
      "metadata": {
        "id": "Lf7yX4vxvFcr",
        "colab": {
          "base_uri": "https://localhost:8080/"
        },
        "outputId": "03abf37f-fec6-4b61-8dc5-41195ce07fb3"
      },
      "execution_count": 83,
      "outputs": [
        {
          "output_type": "stream",
          "name": "stdout",
          "text": [
            "dataset class 객체 생성 완료!\n",
            "데이터 로더 완료!\n"
          ]
        }
      ]
    },
    {
      "cell_type": "code",
      "source": [
        "# Model 설정\n",
        "from torchvision import models\n",
        "from collections import OrderedDict\n",
        "import torch.nn as nn\n",
        "\n",
        "model = models.vgg16(pretrained=True)\n",
        "\n",
        "# Backprop을 수행하지 않도록 parameter들을 동결시키기\n",
        "# # 재학습을 위해, 모든 parameters의 gradient를 꺼놓기\n",
        "for param in model.parameters():\n",
        "    param.requires_grad = False\n",
        "\n",
        "classifier = nn.Sequential(OrderedDict([\n",
        "    ('fc1', nn.Linear(25088, 500)),\n",
        "    ('relu', nn.ReLU()),\n",
        "    ('fc2', nn.Linear(500, 10))\n",
        "]))\n",
        "\n",
        "model.classifier = classifier\n",
        "print('VGG16 셋팅 완료')\n",
        "\n",
        "# Training"
      ],
      "metadata": {
        "id": "5GwepR5JwX6A",
        "colab": {
          "base_uri": "https://localhost:8080/",
          "height": 83,
          "referenced_widgets": [
            "1aa45ab44c804d7b80b8e3bb76582368",
            "d686a388d7124655becad356a02a8ccd",
            "9b45a32ce2944103881f6f3856a57a98",
            "27f7444a77db4ef7b92c069956bfcb03",
            "fecffd827a14474ba76c6fd32d7554fe",
            "286c9fde568a45d1b2bf9be807308524",
            "ab652d2887a543218904df4f0b2abe69",
            "11330c2942b24aff9f7820fc892fe72c",
            "00bd8e1da23b4c6381a91ad6af2c398d",
            "09837e085eda41039fa2a5c039de5085",
            "7905204c3f6e4a7bb4060a9c01311562"
          ]
        },
        "outputId": "19659851-1d3f-4dfa-dfca-4834cbda1840"
      },
      "execution_count": 77,
      "outputs": [
        {
          "output_type": "stream",
          "name": "stderr",
          "text": [
            "Downloading: \"https://download.pytorch.org/models/vgg16-397923af.pth\" to /root/.cache/torch/hub/checkpoints/vgg16-397923af.pth\n"
          ]
        },
        {
          "output_type": "display_data",
          "data": {
            "application/vnd.jupyter.widget-view+json": {
              "model_id": "1aa45ab44c804d7b80b8e3bb76582368",
              "version_minor": 0,
              "version_major": 2
            },
            "text/plain": [
              "  0%|          | 0.00/528M [00:00<?, ?B/s]"
            ]
          },
          "metadata": {}
        },
        {
          "output_type": "stream",
          "name": "stdout",
          "text": [
            "VGG16 셋팅 완료\n"
          ]
        }
      ]
    },
    {
      "cell_type": "code",
      "source": [
        "import numpy as np\n",
        "import cv2\n",
        "import random\n",
        "import time\n",
        "import torch.optim as optim\n",
        "\n",
        "from tqdm import tqdm # tqdm은 작업의 진행률을 시각적으로 표시해준다.\n",
        "\n",
        "# train\n",
        "def train_epoch(model, loader, device, criterion, optimizer):\n",
        "    model.train() # 모델 train 모드로 바꾸기\n",
        "    train_loss = []\n",
        "    bar = tqdm(loader)\n",
        "\n",
        "    for i, (data, target) in enumerate(bar):\n",
        "        optimizer.zero_grad() # 최적화된 모든 변수 초기화\n",
        "\n",
        "        data, target = data.to(device), target.to(device) # 지정한 device로 데이터 옮기기\n",
        "        logits = model(data) # 1. forward pass\n",
        "        loss = criterion(logits, target) # 2. loss계산\n",
        "        loss.backward() # 3. backward pass\n",
        "        optimizer.step() # 4. gradient descent(파라미터 업데이트)\n",
        "\n",
        "        loss_np = loss.detach().cpu().numpy() # loss값 가져오기 위해 gpu에 있던 데이터 모두 cpu로 옮기기\n",
        "        train_loss.append(loss_np)\n",
        "        bar.set_description('loss: %.5f' % (loss_np))\n",
        "\n",
        "    train_loss = np.mean(train_loss) # 한 epoch당 train loss의 평균 구하기\n",
        "    return train_loss\n",
        "\n",
        "# Validation\n",
        "def val_epoch(model, loader, device, criterion):\n",
        "    model.eval() # 모델 evaluate 모드로 바꾸기\n",
        "    val_loss = []\n",
        "    LOGITS = []\n",
        "    PROBS = []\n",
        "    TARGETS = []\n",
        "\n",
        "    with torch.no_grad():\n",
        "        for (data, target) in tqdm(loader):\n",
        "            data, target = data.to(device), target.to(device)\n",
        "            logits = model(data)    # 1. forward pass\n",
        "            probs = logits.softmax(1)\n",
        "\n",
        "            LOGITS.append(logits.detach().cpu())\n",
        "            PROBS.append(probs.detach().cpu())\n",
        "            TARGETS.append(target.detach().cpu())\n",
        "\n",
        "            loss = criterion(logits, target)    # 2. loss 계산\n",
        "            val_loss.append(loss.detach().cpu().numpy())\n",
        "\n",
        "    val_loss = np.mean(val_loss)\n",
        "    LOGITS = torch.cat(LOGITS).numpy()\n",
        "    PROBS = torch.cat(PROBS).numpy()\n",
        "    TARGETS = torch.cat(TARGETS).numpy()\n",
        "\n",
        "    # accuracy: 정확도\n",
        "    acc = (PROBS.argmax(1) == TARGETS).mean() * 100.\n",
        "\n",
        "    return val_loss, acc"
      ],
      "metadata": {
        "id": "D-b38d-JwL6K"
      },
      "execution_count": 84,
      "outputs": []
    },
    {
      "cell_type": "code",
      "source": [
        "# 학습시키기\n",
        "\n",
        "minLoss = 10000\n",
        "def run(model = model, init_lr = 0.1, n_epochs = 15):\n",
        "    global minLoss\n",
        "    # gpu 사용\n",
        "    device = torch.device('cuda' if torch.cuda.is_available() else 'cpu')\n",
        "    print(f\"현재 장치: {device}\")\n",
        "    # model을 지정한 장치로 옮기기\n",
        "    model = model.to(device)\n",
        "\n",
        "    # loss function 지정\n",
        "    criterion = nn.CrossEntropyLoss()\n",
        "\n",
        "    # optimizer로 adam 사용\n",
        "    optimizer = optim.Adam(model.parameters(), lr = init_lr)\n",
        "    \n",
        "    train_losses = []\n",
        "    val_losses = []\n",
        "    accurates = []\n",
        "    \n",
        "    for epoch in range(1, n_epochs + 1):\n",
        "        print(time.ctime(), f'Epoch {epoch}')\n",
        "        optimizer.param_groups[0][\"lr\"] = init_lr / (epoch ** 0.5)\n",
        "        train_loss = train_epoch(model, train_loader, device, criterion, optimizer) # train\n",
        "        val_loss, acc = val_epoch(model, valid_loader, device, criterion) # validation\n",
        "\n",
        "        content = time.ctime() + ' ' + f'Epoch {epoch}, lr: {optimizer.param_groups[0][\"lr\"]:.7f}, train loss: {train_loss:.5f}, valid loss: {(val_loss):.5f}, Acc: {(acc):.4f}.'\n",
        "        train_losses.append(train_loss)\n",
        "        val_losses.append(val_loss)\n",
        "        accurates.append(acc)\n",
        "        print(content)\n",
        "\n",
        "        if val_loss < minLoss:\n",
        "            torch.save(model, '/content/drive/MyDrive/FingerNumber_classifier_project/best_model.pth')\n",
        "            minLoss = val_loss\n",
        "            print(\"최소의 로스값이 나왔습니다. 모델을 새로 저장합니다.\")\n",
        "    \n",
        "    return train_losses, val_losses, accurates\n"
      ],
      "metadata": {
        "id": "X1t_uXjNvKG3",
        "colab": {
          "base_uri": "https://localhost:8080/"
        },
        "outputId": "8f8541e0-e4cc-4dd9-ac9a-8b78875566eb"
      },
      "execution_count": 85,
      "outputs": [
        {
          "output_type": "stream",
          "name": "stdout",
          "text": [
            "모델을 새로 학습합니다.\n",
            "원하는 에포크 수를 입력해주세요: 30\n",
            "30으로 에포크를 설정하였습니다.\n",
            "모델 학습을 시작합니다.\n",
            "현재 장치: cuda\n",
            "Sat Dec 11 14:26:36 2021 Epoch 1\n"
          ]
        },
        {
          "output_type": "stream",
          "name": "stderr",
          "text": [
            "loss: 2.73020: 100%|██████████| 216/216 [00:11<00:00, 18.98it/s]\n",
            "100%|██████████| 54/54 [00:02<00:00, 24.85it/s]\n"
          ]
        },
        {
          "output_type": "stream",
          "name": "stdout",
          "text": [
            "Sat Dec 11 14:26:49 2021 Epoch 1, lr: 0.0010000, train loss: 5.16654, valid loss: 1.90253, Acc: 33.3333.\n",
            "최소의 로스값이 나왔습니다. 모델을 새로 저장합니다.\n",
            "Sat Dec 11 14:26:50 2021 Epoch 2\n"
          ]
        },
        {
          "output_type": "stream",
          "name": "stderr",
          "text": [
            "loss: 3.12387: 100%|██████████| 216/216 [00:11<00:00, 18.61it/s]\n",
            "100%|██████████| 54/54 [00:02<00:00, 25.05it/s]\n"
          ]
        },
        {
          "output_type": "stream",
          "name": "stdout",
          "text": [
            "Sat Dec 11 14:27:03 2021 Epoch 2, lr: 0.0007071, train loss: 1.99961, valid loss: 1.28226, Acc: 48.1481.\n",
            "최소의 로스값이 나왔습니다. 모델을 새로 저장합니다.\n",
            "Sat Dec 11 14:27:04 2021 Epoch 3\n"
          ]
        },
        {
          "output_type": "stream",
          "name": "stderr",
          "text": [
            "loss: 0.97167: 100%|██████████| 216/216 [00:11<00:00, 18.63it/s]\n",
            "100%|██████████| 54/54 [00:02<00:00, 25.00it/s]\n"
          ]
        },
        {
          "output_type": "stream",
          "name": "stdout",
          "text": [
            "Sat Dec 11 14:27:18 2021 Epoch 3, lr: 0.0005774, train loss: 1.65967, valid loss: 0.93562, Acc: 62.9630.\n",
            "최소의 로스값이 나왔습니다. 모델을 새로 저장합니다.\n",
            "Sat Dec 11 14:27:18 2021 Epoch 4\n"
          ]
        },
        {
          "output_type": "stream",
          "name": "stderr",
          "text": [
            "loss: 2.24206: 100%|██████████| 216/216 [00:11<00:00, 18.88it/s]\n",
            "100%|██████████| 54/54 [00:02<00:00, 25.21it/s]\n"
          ]
        },
        {
          "output_type": "stream",
          "name": "stdout",
          "text": [
            "Sat Dec 11 14:27:32 2021 Epoch 4, lr: 0.0005000, train loss: 1.49773, valid loss: 1.24641, Acc: 55.5556.\n",
            "Sat Dec 11 14:27:32 2021 Epoch 5\n"
          ]
        },
        {
          "output_type": "stream",
          "name": "stderr",
          "text": [
            "loss: 0.01064: 100%|██████████| 216/216 [00:11<00:00, 19.05it/s]\n",
            "100%|██████████| 54/54 [00:02<00:00, 25.55it/s]\n"
          ]
        },
        {
          "output_type": "stream",
          "name": "stdout",
          "text": [
            "Sat Dec 11 14:27:45 2021 Epoch 5, lr: 0.0004472, train loss: 1.34989, valid loss: 0.88328, Acc: 66.6667.\n",
            "최소의 로스값이 나왔습니다. 모델을 새로 저장합니다.\n",
            "Sat Dec 11 14:27:46 2021 Epoch 6\n"
          ]
        },
        {
          "output_type": "stream",
          "name": "stderr",
          "text": [
            "loss: 1.02524: 100%|██████████| 216/216 [00:11<00:00, 18.84it/s]\n",
            "100%|██████████| 54/54 [00:02<00:00, 24.94it/s]\n"
          ]
        },
        {
          "output_type": "stream",
          "name": "stdout",
          "text": [
            "Sat Dec 11 14:27:59 2021 Epoch 6, lr: 0.0004082, train loss: 1.27571, valid loss: 0.77631, Acc: 72.2222.\n",
            "최소의 로스값이 나왔습니다. 모델을 새로 저장합니다.\n",
            "Sat Dec 11 14:28:00 2021 Epoch 7\n"
          ]
        },
        {
          "output_type": "stream",
          "name": "stderr",
          "text": [
            "loss: 0.00062: 100%|██████████| 216/216 [00:11<00:00, 18.10it/s]\n",
            "100%|██████████| 54/54 [00:02<00:00, 25.35it/s]\n"
          ]
        },
        {
          "output_type": "stream",
          "name": "stdout",
          "text": [
            "Sat Dec 11 14:28:14 2021 Epoch 7, lr: 0.0003780, train loss: 1.09545, valid loss: 0.79729, Acc: 74.0741.\n",
            "Sat Dec 11 14:28:14 2021 Epoch 8\n"
          ]
        },
        {
          "output_type": "stream",
          "name": "stderr",
          "text": [
            "loss: 0.74261: 100%|██████████| 216/216 [00:11<00:00, 19.14it/s]\n",
            "100%|██████████| 54/54 [00:02<00:00, 25.16it/s]\n"
          ]
        },
        {
          "output_type": "stream",
          "name": "stdout",
          "text": [
            "Sat Dec 11 14:28:27 2021 Epoch 8, lr: 0.0003536, train loss: 1.00258, valid loss: 0.72822, Acc: 75.9259.\n",
            "최소의 로스값이 나왔습니다. 모델을 새로 저장합니다.\n",
            "Sat Dec 11 14:28:28 2021 Epoch 9\n"
          ]
        },
        {
          "output_type": "stream",
          "name": "stderr",
          "text": [
            "loss: 0.02351: 100%|██████████| 216/216 [00:11<00:00, 18.59it/s]\n",
            "100%|██████████| 54/54 [00:02<00:00, 24.73it/s]\n"
          ]
        },
        {
          "output_type": "stream",
          "name": "stdout",
          "text": [
            "Sat Dec 11 14:28:42 2021 Epoch 9, lr: 0.0003333, train loss: 0.99218, valid loss: 0.73185, Acc: 75.9259.\n",
            "Sat Dec 11 14:28:42 2021 Epoch 10\n"
          ]
        },
        {
          "output_type": "stream",
          "name": "stderr",
          "text": [
            "loss: 1.35146: 100%|██████████| 216/216 [00:11<00:00, 18.95it/s]\n",
            "100%|██████████| 54/54 [00:02<00:00, 25.02it/s]\n"
          ]
        },
        {
          "output_type": "stream",
          "name": "stdout",
          "text": [
            "Sat Dec 11 14:28:55 2021 Epoch 10, lr: 0.0003162, train loss: 0.91968, valid loss: 0.59123, Acc: 81.4815.\n",
            "최소의 로스값이 나왔습니다. 모델을 새로 저장합니다.\n",
            "Sat Dec 11 14:28:56 2021 Epoch 11\n"
          ]
        },
        {
          "output_type": "stream",
          "name": "stderr",
          "text": [
            "100%|██████████| 54/54 [00:02<00:00, 25.32it/s]\n"
          ]
        },
        {
          "output_type": "stream",
          "name": "stdout",
          "text": [
            "Sat Dec 11 14:29:09 2021 Epoch 11, lr: 0.0003015, train loss: 0.87315, valid loss: 0.43637, Acc: 87.0370.\n",
            "최소의 로스값이 나왔습니다. 모델을 새로 저장합니다.\n",
            "Sat Dec 11 14:29:10 2021 Epoch 12\n"
          ]
        },
        {
          "output_type": "stream",
          "name": "stderr",
          "text": [
            "loss: 0.06522: 100%|██████████| 216/216 [00:11<00:00, 18.79it/s]\n",
            "100%|██████████| 54/54 [00:02<00:00, 25.43it/s]\n"
          ]
        },
        {
          "output_type": "stream",
          "name": "stdout",
          "text": [
            "Sat Dec 11 14:29:24 2021 Epoch 12, lr: 0.0002887, train loss: 0.89454, valid loss: 0.44940, Acc: 83.3333.\n",
            "Sat Dec 11 14:29:24 2021 Epoch 13\n"
          ]
        },
        {
          "output_type": "stream",
          "name": "stderr",
          "text": [
            "loss: 0.00636: 100%|██████████| 216/216 [00:11<00:00, 19.31it/s]\n",
            "100%|██████████| 54/54 [00:02<00:00, 25.50it/s]\n"
          ]
        },
        {
          "output_type": "stream",
          "name": "stdout",
          "text": [
            "Sat Dec 11 14:29:37 2021 Epoch 13, lr: 0.0002774, train loss: 0.82516, valid loss: 0.44322, Acc: 83.3333.\n",
            "Sat Dec 11 14:29:37 2021 Epoch 14\n"
          ]
        },
        {
          "output_type": "stream",
          "name": "stderr",
          "text": [
            "loss: 0.00182: 100%|██████████| 216/216 [00:11<00:00, 19.37it/s]\n",
            "100%|██████████| 54/54 [00:02<00:00, 25.90it/s]\n"
          ]
        },
        {
          "output_type": "stream",
          "name": "stdout",
          "text": [
            "Sat Dec 11 14:29:50 2021 Epoch 14, lr: 0.0002673, train loss: 0.89305, valid loss: 0.47856, Acc: 85.1852.\n",
            "Sat Dec 11 14:29:50 2021 Epoch 15\n"
          ]
        },
        {
          "output_type": "stream",
          "name": "stderr",
          "text": [
            "loss: 0.24390: 100%|██████████| 216/216 [00:10<00:00, 19.68it/s]\n",
            "100%|██████████| 54/54 [00:02<00:00, 25.62it/s]\n"
          ]
        },
        {
          "output_type": "stream",
          "name": "stdout",
          "text": [
            "Sat Dec 11 14:30:03 2021 Epoch 15, lr: 0.0002582, train loss: 0.57565, valid loss: 0.40740, Acc: 88.8889.\n",
            "최소의 로스값이 나왔습니다. 모델을 새로 저장합니다.\n",
            "Sat Dec 11 14:30:04 2021 Epoch 16\n"
          ]
        },
        {
          "output_type": "stream",
          "name": "stderr",
          "text": [
            "loss: 1.75232: 100%|██████████| 216/216 [00:11<00:00, 19.11it/s]\n",
            "100%|██████████| 54/54 [00:02<00:00, 25.40it/s]\n"
          ]
        },
        {
          "output_type": "stream",
          "name": "stdout",
          "text": [
            "Sat Dec 11 14:30:17 2021 Epoch 16, lr: 0.0002500, train loss: 0.69235, valid loss: 0.49697, Acc: 87.0370.\n",
            "Sat Dec 11 14:30:17 2021 Epoch 17\n"
          ]
        },
        {
          "output_type": "stream",
          "name": "stderr",
          "text": [
            "loss: 0.01243: 100%|██████████| 216/216 [00:11<00:00, 19.27it/s]\n",
            "100%|██████████| 54/54 [00:02<00:00, 25.69it/s]\n"
          ]
        },
        {
          "output_type": "stream",
          "name": "stdout",
          "text": [
            "Sat Dec 11 14:30:31 2021 Epoch 17, lr: 0.0002425, train loss: 0.75280, valid loss: 0.39146, Acc: 88.8889.\n",
            "최소의 로스값이 나왔습니다. 모델을 새로 저장합니다.\n",
            "Sat Dec 11 14:30:31 2021 Epoch 18\n"
          ]
        },
        {
          "output_type": "stream",
          "name": "stderr",
          "text": [
            "loss: 0.12345: 100%|██████████| 216/216 [00:11<00:00, 18.63it/s]\n",
            "100%|██████████| 54/54 [00:02<00:00, 25.25it/s]\n"
          ]
        },
        {
          "output_type": "stream",
          "name": "stdout",
          "text": [
            "Sat Dec 11 14:30:45 2021 Epoch 18, lr: 0.0002357, train loss: 0.70082, valid loss: 0.46432, Acc: 85.1852.\n",
            "Sat Dec 11 14:30:45 2021 Epoch 19\n"
          ]
        },
        {
          "output_type": "stream",
          "name": "stderr",
          "text": [
            "loss: 0.01877: 100%|██████████| 216/216 [00:11<00:00, 18.90it/s]\n",
            "100%|██████████| 54/54 [00:02<00:00, 25.19it/s]\n"
          ]
        },
        {
          "output_type": "stream",
          "name": "stdout",
          "text": [
            "Sat Dec 11 14:30:58 2021 Epoch 19, lr: 0.0002294, train loss: 0.63890, valid loss: 0.34680, Acc: 87.0370.\n",
            "최소의 로스값이 나왔습니다. 모델을 새로 저장합니다.\n",
            "Sat Dec 11 14:30:59 2021 Epoch 20\n"
          ]
        },
        {
          "output_type": "stream",
          "name": "stderr",
          "text": [
            "loss: 1.72355: 100%|██████████| 216/216 [00:11<00:00, 18.63it/s]\n",
            "100%|██████████| 54/54 [00:02<00:00, 25.39it/s]\n"
          ]
        },
        {
          "output_type": "stream",
          "name": "stdout",
          "text": [
            "Sat Dec 11 14:31:13 2021 Epoch 20, lr: 0.0002236, train loss: 0.70773, valid loss: 0.56402, Acc: 85.1852.\n",
            "Sat Dec 11 14:31:13 2021 Epoch 21\n"
          ]
        },
        {
          "output_type": "stream",
          "name": "stderr",
          "text": [
            "loss: 0.00198: 100%|██████████| 216/216 [00:11<00:00, 19.14it/s]\n",
            "100%|██████████| 54/54 [00:02<00:00, 25.50it/s]\n"
          ]
        },
        {
          "output_type": "stream",
          "name": "stdout",
          "text": [
            "Sat Dec 11 14:31:26 2021 Epoch 21, lr: 0.0002182, train loss: 0.68644, valid loss: 0.26734, Acc: 92.5926.\n",
            "최소의 로스값이 나왔습니다. 모델을 새로 저장합니다.\n",
            "Sat Dec 11 14:31:26 2021 Epoch 22\n"
          ]
        },
        {
          "output_type": "stream",
          "name": "stderr",
          "text": [
            "loss: 1.36166: 100%|██████████| 216/216 [00:11<00:00, 18.40it/s]\n",
            "100%|██████████| 54/54 [00:02<00:00, 25.40it/s]\n"
          ]
        },
        {
          "output_type": "stream",
          "name": "stdout",
          "text": [
            "Sat Dec 11 14:31:40 2021 Epoch 22, lr: 0.0002132, train loss: 0.58399, valid loss: 0.35590, Acc: 87.0370.\n",
            "Sat Dec 11 14:31:40 2021 Epoch 23\n"
          ]
        },
        {
          "output_type": "stream",
          "name": "stderr",
          "text": [
            "loss: 0.38165: 100%|██████████| 216/216 [00:11<00:00, 19.07it/s]\n",
            "100%|██████████| 54/54 [00:02<00:00, 24.97it/s]\n"
          ]
        },
        {
          "output_type": "stream",
          "name": "stdout",
          "text": [
            "Sat Dec 11 14:31:54 2021 Epoch 23, lr: 0.0002085, train loss: 0.57270, valid loss: 0.31642, Acc: 90.7407.\n",
            "Sat Dec 11 14:31:54 2021 Epoch 24\n"
          ]
        },
        {
          "output_type": "stream",
          "name": "stderr",
          "text": [
            "loss: 3.79210: 100%|██████████| 216/216 [00:11<00:00, 19.10it/s]\n",
            "100%|██████████| 54/54 [00:02<00:00, 24.94it/s]\n"
          ]
        },
        {
          "output_type": "stream",
          "name": "stdout",
          "text": [
            "Sat Dec 11 14:32:07 2021 Epoch 24, lr: 0.0002041, train loss: 0.71107, valid loss: 0.42300, Acc: 87.0370.\n",
            "Sat Dec 11 14:32:07 2021 Epoch 25\n"
          ]
        },
        {
          "output_type": "stream",
          "name": "stderr",
          "text": [
            "loss: 0.16512: 100%|██████████| 216/216 [00:11<00:00, 19.03it/s]\n",
            "100%|██████████| 54/54 [00:02<00:00, 24.77it/s]\n"
          ]
        },
        {
          "output_type": "stream",
          "name": "stdout",
          "text": [
            "Sat Dec 11 14:32:21 2021 Epoch 25, lr: 0.0002000, train loss: 0.63701, valid loss: 0.33225, Acc: 85.1852.\n",
            "Sat Dec 11 14:32:21 2021 Epoch 26\n"
          ]
        },
        {
          "output_type": "stream",
          "name": "stderr",
          "text": [
            "loss: 0.16632: 100%|██████████| 216/216 [00:11<00:00, 19.09it/s]\n",
            "100%|██████████| 54/54 [00:02<00:00, 25.01it/s]\n"
          ]
        },
        {
          "output_type": "stream",
          "name": "stdout",
          "text": [
            "Sat Dec 11 14:32:34 2021 Epoch 26, lr: 0.0001961, train loss: 0.54765, valid loss: 0.37590, Acc: 88.8889.\n",
            "Sat Dec 11 14:32:34 2021 Epoch 27\n"
          ]
        },
        {
          "output_type": "stream",
          "name": "stderr",
          "text": [
            "loss: 0.03182: 100%|██████████| 216/216 [00:11<00:00, 18.96it/s]\n",
            "100%|██████████| 54/54 [00:02<00:00, 24.99it/s]\n"
          ]
        },
        {
          "output_type": "stream",
          "name": "stdout",
          "text": [
            "Sat Dec 11 14:32:48 2021 Epoch 27, lr: 0.0001925, train loss: 0.42068, valid loss: 0.33616, Acc: 88.8889.\n",
            "Sat Dec 11 14:32:48 2021 Epoch 28\n"
          ]
        },
        {
          "output_type": "stream",
          "name": "stderr",
          "text": [
            "loss: 0.05516: 100%|██████████| 216/216 [00:11<00:00, 19.21it/s]\n",
            "100%|██████████| 54/54 [00:02<00:00, 25.48it/s]\n"
          ]
        },
        {
          "output_type": "stream",
          "name": "stdout",
          "text": [
            "Sat Dec 11 14:33:01 2021 Epoch 28, lr: 0.0001890, train loss: 0.51743, valid loss: 0.27952, Acc: 94.4444.\n",
            "Sat Dec 11 14:33:01 2021 Epoch 29\n"
          ]
        },
        {
          "output_type": "stream",
          "name": "stderr",
          "text": [
            "loss: 2.41238: 100%|██████████| 216/216 [00:11<00:00, 19.08it/s]\n",
            "100%|██████████| 54/54 [00:02<00:00, 25.13it/s]\n"
          ]
        },
        {
          "output_type": "stream",
          "name": "stdout",
          "text": [
            "Sat Dec 11 14:33:15 2021 Epoch 29, lr: 0.0001857, train loss: 0.54656, valid loss: 0.28282, Acc: 92.5926.\n",
            "Sat Dec 11 14:33:15 2021 Epoch 30\n"
          ]
        },
        {
          "output_type": "stream",
          "name": "stderr",
          "text": [
            "loss: 2.39060: 100%|██████████| 216/216 [00:11<00:00, 18.98it/s]\n",
            "100%|██████████| 54/54 [00:02<00:00, 25.48it/s]"
          ]
        },
        {
          "output_type": "stream",
          "name": "stdout",
          "text": [
            "Sat Dec 11 14:33:28 2021 Epoch 30, lr: 0.0001826, train loss: 0.46174, valid loss: 0.27867, Acc: 88.8889.\n"
          ]
        },
        {
          "output_type": "stream",
          "name": "stderr",
          "text": [
            "\n"
          ]
        }
      ]
    },
    {
      "cell_type": "code",
      "source": [
        "print(\"모델을 새로 학습합니다.\")\n",
        "epochNum = int(input(\"원하는 에포크 수를 입력해주세요: \"))\n",
        "print(f\"{epochNum}으로 에포크를 설정하였습니다.\")\n",
        "print(\"모델 학습을 시작합니다.\")\n",
        "\n",
        "train_losses, val_losses, accurates = run(model, init_lr=1e-3, n_epochs=epochNum)\n"
      ],
      "metadata": {
        "id": "97lxh4W7DPkS"
      },
      "execution_count": null,
      "outputs": []
    },
    {
      "cell_type": "code",
      "source": [
        "print(\"학습 종료\");\n",
        "\n",
        "import matplotlib.pyplot as plt\n",
        "plt.plot(range(1, epochNum+1), train_losses, 'r', label=\"train_loss\")\n",
        "plt.plot(range(1, epochNum+1), val_losses, 'g', label=\"valid_loss\")\n",
        "plt.xlabel('epoch')\n",
        "plt.ylabel('loss')\n",
        "plt.legend()\n",
        "plt.show()\n",
        "\n",
        "plt.plot(range(1, epochNum+1), accurates, 'b', label=\"accurate\")\n",
        "plt.xlabel('epoch')\n",
        "plt.ylabel('accurate')\n",
        "plt.legend()\n",
        "plt.show()\n",
        "\n",
        "print(\"\\n테스트셋으로 최종 정확도를 계산합니다.\")\n",
        "\n",
        "def run_test(model = model, n_epochs = 1):\n",
        "    device = torch.device('cuda' if torch.cuda.is_available() else 'cpu')\n",
        "    # loss function 지정\n",
        "    criterion = nn.CrossEntropyLoss()\n",
        "\n",
        "    # optimizer로 adam 사용\n",
        "    for epoch in range(1, n_epochs + 1):\n",
        "        test_loss, acc = val_epoch(model, test_loader, device, criterion) # val_epoch지만 loader에 test_loader을 기입\n",
        "        print(f'\\t새로운 이미지에 대한 정확도: {acc}.')\n",
        "\n",
        "run_test(model)\n"
      ],
      "metadata": {
        "id": "vGo-Oj4OweLv",
        "colab": {
          "base_uri": "https://localhost:8080/",
          "height": 626
        },
        "outputId": "01b5c5b8-2cb4-4a2c-a008-407d6aa9c486"
      },
      "execution_count": 86,
      "outputs": [
        {
          "output_type": "stream",
          "name": "stdout",
          "text": [
            "학습 종료\n"
          ]
        },
        {
          "output_type": "display_data",
          "data": {
            "image/png": "[encoded data removed]",
            "text/plain": [
              "<Figure size 432x288 with 1 Axes>"
            ]
          },
          "metadata": {
            "needs_background": "light"
          }
        },
        {
          "output_type": "display_data",
          "data": {
            "image/png": "[encoded data removed]",
            "text/plain": [
              "<Figure size 432x288 with 1 Axes>"
            ]
          },
          "metadata": {
            "needs_background": "light"
          }
        },
        {
          "output_type": "stream",
          "name": "stdout",
          "text": [
            "\n",
            "테스트셋으로 최종 정확도를 계산합니다.\n"
          ]
        },
        {
          "output_type": "stream",
          "name": "stderr",
          "text": [
            "100%|██████████| 30/30 [00:01<00:00, 25.64it/s]"
          ]
        },
        {
          "output_type": "stream",
          "name": "stdout",
          "text": [
            "\t새로운 이미지에 대한 정확도: 83.33333333333334.\n"
          ]
        },
        {
          "output_type": "stream",
          "name": "stderr",
          "text": [
            "\n"
          ]
        }
      ]
    },
    {
      "cell_type": "code",
      "source": [
        ""
      ],
      "metadata": {
        "id": "zJiIUjq9wjzD"
      },
      "execution_count": 86,
      "outputs": []
    },
    {
      "cell_type": "code",
      "metadata": {
        "colab": {
          "base_uri": "https://localhost:8080/",
          "height": 422
        },
        "id": "hiMxBx15BjtA",
        "outputId": "5d01075b-cd87-4d03-fb04-2be5fdb7ce29"
      },
      "source": [
        "# 새로운 이미지 예측해보기 \n",
        "model = torch.load('/content/drive/MyDrive/FingerNumber_classifier_project/best_model.pth')\n",
        "model.eval()\n",
        "\n",
        "print(\"\\n아직 구현실력이 부족하여 구글드라이브의 특정 위치에 사진을 업로드 하고 마운트하여 진행합니다.\")\n",
        "print(\"분류할 사진 파일을 /content/drive/MyDrive/FingerNumber_classifier_project 경로에 newImage.png 의 이름으로 추가해주시기 바랍니다.\")\n",
        "input(\"업로드가 완료되면 엔터를 입력해주세요.\")\n",
        "\n",
        "newImage = Image.open(\"/content/drive/MyDrive/FingerNumber_classifier_project/newImage.png\").convert('RGB')\n",
        "print(\"이미지를 성공적으로 불러왔습니다!\")\n",
        "\n",
        "transforms_new = transforms.Compose([transforms.Resize(224),\n",
        "                                            transforms.ToTensor(),\n",
        "                                            transforms.Normalize(0.5, 0.5)]) # 정규화\n",
        "\n",
        "import matplotlib.image as img\n",
        "import matplotlib.pyplot as pp\n",
        "\n",
        "ndarray = img.imread('/content/drive/MyDrive/FingerNumber_classifier_project/newImage.png')\n",
        "\n",
        "pp.imshow(ndarray)\n",
        "pp.show()\n",
        "\n",
        "newImage = transforms_new(newImage)\n",
        "print(\"새로운 이미지 transform 적용 완료\")\n",
        "print(f'newImage type: {type(newImage)}, newImage shape: {newImage.shape}')\n",
        "\n",
        "newImage = newImage.view(1, 3, 224, 224)\n",
        "\n",
        "device = torch.device(\"cuda:0\" if torch.cuda.is_available() else \"cpu\")\n",
        "newImage = newImage.to(device)\n",
        "model = model.to(device)\n",
        "\n",
        "print(f'newImage type: {type(newImage)}, newImage shape: {newImage.shape}')\n",
        "\n",
        "with torch.no_grad():\n",
        "    logits = model(newImage) # 1. forward pass\n",
        "    probs = logits.softmax(1)  \n",
        "    probs = probs.detach().cpu()\n",
        "\n",
        "print(f'위 사진에 대한 예측 값은 {int(probs.argmax(1)) + 1} 입니다. 잘 예측이 되었을까요..?')\n"
      ],
      "execution_count": 87,
      "outputs": [
        {
          "output_type": "stream",
          "name": "stdout",
          "text": [
            "\n",
            "아직 구현실력이 부족하여 구글드라이브의 특정 위치에 사진을 업로드 하고 마운트하여 진행합니다.\n",
            "분류할 사진 파일을 /content/drive/MyDrive/FingerNumber_classifier_project 경로에 newImage.png 의 이름으로 추가해주시기 바랍니다.\n",
            "업로드가 완료되면 엔터를 입력해주세요.\n",
            "이미지를 성공적으로 불러왔습니다!\n"
          ]
        },
        {
          "output_type": "display_data",
          "data": {
            "image/png": "[encoded data removed]",
            "text/plain": [
              "<Figure size 432x288 with 1 Axes>"
            ]
          },
          "metadata": {
            "needs_background": "light"
          }
        },
        {
          "output_type": "stream",
          "name": "stdout",
          "text": [
            "새로운 이미지 transform 적용 완료\n",
            "newImage type: <class 'torch.Tensor'>, newImage shape: torch.Size([3, 224, 224])\n",
            "newImage type: <class 'torch.Tensor'>, newImage shape: torch.Size([1, 3, 224, 224])\n",
            "위 사진에 대한 예측 값은 9 입니다. 잘 예측이 되었을까요..?\n"
          ]
        }
      ]
    },
    {
      "cell_type": "code",
      "metadata": {
        "id": "ZLDtq9yR2NVq",
        "colab": {
          "base_uri": "https://localhost:8080/"
        },
        "outputId": "070f9b2c-1e62-445c-bc34-97f94ff78163"
      },
      "source": [
        "from google.colab import drive\n",
        "drive.mount('/content/drive')"
      ],
      "execution_count": 88,
      "outputs": [
        {
          "output_type": "stream",
          "name": "stdout",
          "text": [
            "Drive already mounted at /content/drive; to attempt to forcibly remount, call drive.mount(\"/content/drive\", force_remount=True).\n"
          ]
        }
      ]
    }
  ]
}